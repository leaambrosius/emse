{
 "cells": [
  {
   "cell_type": "code",
   "execution_count": 20,
   "metadata": {},
   "outputs": [],
   "source": [
    "##Correlation analysis: \n",
    "#(Generalized linear mixed effect models) \n",
    "\n",
    "#Type of Motivation - > using sport apps (wether? how often? What for?)\n",
    "\n",
    "#Age (Median or continuous variable) and motivation -> use of sport apps \n",
    "\n",
    "# log reg for predicting if ppl that are more motivated use sport apps\n",
    "\n",
    "# indep: motivation, dependent: how often sport apps are used \n"
   ]
  },
  {
   "cell_type": "code",
   "execution_count": 21,
   "metadata": {},
   "outputs": [],
   "source": [
    "import numpy as np\n",
    "import pandas as pd\n",
    "from matplotlib import pyplot as plt\n",
    "import seaborn as sns \n",
    "from scipy import stats"
   ]
  },
  {
   "cell_type": "code",
   "execution_count": 22,
   "metadata": {},
   "outputs": [
    {
     "data": {
      "text/html": [
       "<div>\n",
       "<style scoped>\n",
       "    .dataframe tbody tr th:only-of-type {\n",
       "        vertical-align: middle;\n",
       "    }\n",
       "\n",
       "    .dataframe tbody tr th {\n",
       "        vertical-align: top;\n",
       "    }\n",
       "\n",
       "    .dataframe thead th {\n",
       "        text-align: right;\n",
       "    }\n",
       "</style>\n",
       "<table border=\"1\" class=\"dataframe\">\n",
       "  <thead>\n",
       "    <tr style=\"text-align: right;\">\n",
       "      <th></th>\n",
       "      <th>Unnamed: 0</th>\n",
       "      <th>Gender</th>\n",
       "      <th>Age</th>\n",
       "      <th>Sport Frequency</th>\n",
       "      <th>Type of Sport</th>\n",
       "      <th>Ever used Sportapp</th>\n",
       "      <th>Frequency Sportapp</th>\n",
       "      <th>Reason sportapp</th>\n",
       "      <th>Goals more efficient through sportapp</th>\n",
       "      <th>Motivation when comparing to friends</th>\n",
       "      <th>Amotivation</th>\n",
       "      <th>External Regulation</th>\n",
       "      <th>Introjected Regulation</th>\n",
       "      <th>Identified Regulation</th>\n",
       "      <th>Integrated Regulation</th>\n",
       "      <th>Intrinsic Motivation</th>\n",
       "      <th>numSports</th>\n",
       "      <th>compare</th>\n",
       "      <th>track performance</th>\n",
       "      <th>mean of Intrinsic motivations</th>\n",
       "    </tr>\n",
       "  </thead>\n",
       "  <tbody>\n",
       "    <tr>\n",
       "      <th>0</th>\n",
       "      <td>0</td>\n",
       "      <td>Weiblich</td>\n",
       "      <td>22</td>\n",
       "      <td>5</td>\n",
       "      <td>Joggen, Ballsportarten, Schwimmen</td>\n",
       "      <td>Ja</td>\n",
       "      <td>1</td>\n",
       "      <td>Zum Tracken meiner Leistungen, Um mir Ziele zu...</td>\n",
       "      <td>Ja</td>\n",
       "      <td>Nein</td>\n",
       "      <td>1.25</td>\n",
       "      <td>2.75</td>\n",
       "      <td>4.00</td>\n",
       "      <td>3.50</td>\n",
       "      <td>4.25</td>\n",
       "      <td>4.25</td>\n",
       "      <td>2</td>\n",
       "      <td>0</td>\n",
       "      <td>1</td>\n",
       "      <td>4.000000</td>\n",
       "    </tr>\n",
       "    <tr>\n",
       "      <th>1</th>\n",
       "      <td>1</td>\n",
       "      <td>Weiblich</td>\n",
       "      <td>23</td>\n",
       "      <td>3</td>\n",
       "      <td>Fitness-Kurse, Tanzen</td>\n",
       "      <td>Ja</td>\n",
       "      <td>1</td>\n",
       "      <td>Zum Tracken meiner Leistungen, Um das Training...</td>\n",
       "      <td>Ja</td>\n",
       "      <td>Ja</td>\n",
       "      <td>3.00</td>\n",
       "      <td>3.00</td>\n",
       "      <td>4.00</td>\n",
       "      <td>3.75</td>\n",
       "      <td>3.25</td>\n",
       "      <td>3.50</td>\n",
       "      <td>1</td>\n",
       "      <td>1</td>\n",
       "      <td>1</td>\n",
       "      <td>3.500000</td>\n",
       "    </tr>\n",
       "    <tr>\n",
       "      <th>2</th>\n",
       "      <td>2</td>\n",
       "      <td>Weiblich</td>\n",
       "      <td>25</td>\n",
       "      <td>3</td>\n",
       "      <td>Joggen, Kraftsport, Ballsportarten</td>\n",
       "      <td>Ja</td>\n",
       "      <td>1</td>\n",
       "      <td>Zum Tracken meiner Leistungen</td>\n",
       "      <td>Ja</td>\n",
       "      <td>Nein</td>\n",
       "      <td>1.25</td>\n",
       "      <td>2.00</td>\n",
       "      <td>4.50</td>\n",
       "      <td>3.00</td>\n",
       "      <td>4.25</td>\n",
       "      <td>4.25</td>\n",
       "      <td>2</td>\n",
       "      <td>0</td>\n",
       "      <td>1</td>\n",
       "      <td>3.833333</td>\n",
       "    </tr>\n",
       "    <tr>\n",
       "      <th>3</th>\n",
       "      <td>3</td>\n",
       "      <td>Weiblich</td>\n",
       "      <td>18</td>\n",
       "      <td>3</td>\n",
       "      <td>Kraftsport, Ballsportarten</td>\n",
       "      <td>Ja</td>\n",
       "      <td>1</td>\n",
       "      <td>Zum Tracken meiner Leistungen, Um einen Sport-...</td>\n",
       "      <td>Ja</td>\n",
       "      <td>Nein</td>\n",
       "      <td>1.50</td>\n",
       "      <td>2.25</td>\n",
       "      <td>3.25</td>\n",
       "      <td>3.75</td>\n",
       "      <td>5.00</td>\n",
       "      <td>4.00</td>\n",
       "      <td>1</td>\n",
       "      <td>0</td>\n",
       "      <td>1</td>\n",
       "      <td>4.250000</td>\n",
       "    </tr>\n",
       "    <tr>\n",
       "      <th>4</th>\n",
       "      <td>4</td>\n",
       "      <td>Weiblich</td>\n",
       "      <td>18</td>\n",
       "      <td>1</td>\n",
       "      <td>Ballsportarten, Fahrrad fahren</td>\n",
       "      <td>Ja</td>\n",
       "      <td>0</td>\n",
       "      <td>Zum Tracken meiner Leistungen</td>\n",
       "      <td>Ja</td>\n",
       "      <td>Nein</td>\n",
       "      <td>2.25</td>\n",
       "      <td>2.00</td>\n",
       "      <td>3.00</td>\n",
       "      <td>3.00</td>\n",
       "      <td>3.75</td>\n",
       "      <td>2.50</td>\n",
       "      <td>1</td>\n",
       "      <td>0</td>\n",
       "      <td>1</td>\n",
       "      <td>3.083333</td>\n",
       "    </tr>\n",
       "    <tr>\n",
       "      <th>...</th>\n",
       "      <td>...</td>\n",
       "      <td>...</td>\n",
       "      <td>...</td>\n",
       "      <td>...</td>\n",
       "      <td>...</td>\n",
       "      <td>...</td>\n",
       "      <td>...</td>\n",
       "      <td>...</td>\n",
       "      <td>...</td>\n",
       "      <td>...</td>\n",
       "      <td>...</td>\n",
       "      <td>...</td>\n",
       "      <td>...</td>\n",
       "      <td>...</td>\n",
       "      <td>...</td>\n",
       "      <td>...</td>\n",
       "      <td>...</td>\n",
       "      <td>...</td>\n",
       "      <td>...</td>\n",
       "      <td>...</td>\n",
       "    </tr>\n",
       "    <tr>\n",
       "      <th>108</th>\n",
       "      <td>108</td>\n",
       "      <td>Weiblich</td>\n",
       "      <td>65</td>\n",
       "      <td>5</td>\n",
       "      <td>Walken</td>\n",
       "      <td>Nein</td>\n",
       "      <td>0</td>\n",
       "      <td>Benutze keine Sportapp</td>\n",
       "      <td>Nein</td>\n",
       "      <td>Nein</td>\n",
       "      <td>1.00</td>\n",
       "      <td>1.00</td>\n",
       "      <td>2.00</td>\n",
       "      <td>1.00</td>\n",
       "      <td>1.00</td>\n",
       "      <td>1.00</td>\n",
       "      <td>0</td>\n",
       "      <td>0</td>\n",
       "      <td>0</td>\n",
       "      <td>1.000000</td>\n",
       "    </tr>\n",
       "    <tr>\n",
       "      <th>109</th>\n",
       "      <td>109</td>\n",
       "      <td>Männlich</td>\n",
       "      <td>54</td>\n",
       "      <td>0</td>\n",
       "      <td>Schwimmen, Radfahren</td>\n",
       "      <td>Nein</td>\n",
       "      <td>0</td>\n",
       "      <td>Um mir Ziele zu setzen</td>\n",
       "      <td>Nein</td>\n",
       "      <td>Nein</td>\n",
       "      <td>1.00</td>\n",
       "      <td>1.50</td>\n",
       "      <td>2.75</td>\n",
       "      <td>1.50</td>\n",
       "      <td>1.75</td>\n",
       "      <td>1.75</td>\n",
       "      <td>1</td>\n",
       "      <td>0</td>\n",
       "      <td>0</td>\n",
       "      <td>1.666667</td>\n",
       "    </tr>\n",
       "    <tr>\n",
       "      <th>110</th>\n",
       "      <td>110</td>\n",
       "      <td>Weiblich</td>\n",
       "      <td>64</td>\n",
       "      <td>3</td>\n",
       "      <td>Fitness-Kurse</td>\n",
       "      <td>Ja</td>\n",
       "      <td>1</td>\n",
       "      <td>Zum Tracken meiner Leistungen, Um Kurse zu Buc...</td>\n",
       "      <td>Ja</td>\n",
       "      <td>Nein</td>\n",
       "      <td>1.50</td>\n",
       "      <td>2.00</td>\n",
       "      <td>4.75</td>\n",
       "      <td>3.50</td>\n",
       "      <td>3.50</td>\n",
       "      <td>4.25</td>\n",
       "      <td>0</td>\n",
       "      <td>0</td>\n",
       "      <td>1</td>\n",
       "      <td>3.750000</td>\n",
       "    </tr>\n",
       "    <tr>\n",
       "      <th>111</th>\n",
       "      <td>111</td>\n",
       "      <td>Männlich</td>\n",
       "      <td>24</td>\n",
       "      <td>3</td>\n",
       "      <td>Badminton</td>\n",
       "      <td>Ja</td>\n",
       "      <td>1</td>\n",
       "      <td>Zum Tracken meiner Leistungen, Um das Training...</td>\n",
       "      <td>Ja</td>\n",
       "      <td>Ja</td>\n",
       "      <td>2.50</td>\n",
       "      <td>2.25</td>\n",
       "      <td>3.75</td>\n",
       "      <td>3.50</td>\n",
       "      <td>3.75</td>\n",
       "      <td>4.25</td>\n",
       "      <td>0</td>\n",
       "      <td>1</td>\n",
       "      <td>1</td>\n",
       "      <td>3.833333</td>\n",
       "    </tr>\n",
       "    <tr>\n",
       "      <th>112</th>\n",
       "      <td>112</td>\n",
       "      <td>Weiblich</td>\n",
       "      <td>26</td>\n",
       "      <td>1</td>\n",
       "      <td>Ballsportarten, Fitness-Kurse</td>\n",
       "      <td>Ja</td>\n",
       "      <td>1</td>\n",
       "      <td>Zum Tracken meiner Leistungen, Um mir Ziele zu...</td>\n",
       "      <td>Ja</td>\n",
       "      <td>Nein</td>\n",
       "      <td>1.50</td>\n",
       "      <td>1.00</td>\n",
       "      <td>2.25</td>\n",
       "      <td>2.75</td>\n",
       "      <td>2.75</td>\n",
       "      <td>2.25</td>\n",
       "      <td>1</td>\n",
       "      <td>0</td>\n",
       "      <td>1</td>\n",
       "      <td>2.583333</td>\n",
       "    </tr>\n",
       "  </tbody>\n",
       "</table>\n",
       "<p>113 rows × 20 columns</p>\n",
       "</div>"
      ],
      "text/plain": [
       "     Unnamed: 0    Gender  Age  Sport Frequency  \\\n",
       "0             0  Weiblich   22                5   \n",
       "1             1  Weiblich   23                3   \n",
       "2             2  Weiblich   25                3   \n",
       "3             3  Weiblich   18                3   \n",
       "4             4  Weiblich   18                1   \n",
       "..          ...       ...  ...              ...   \n",
       "108         108  Weiblich   65                5   \n",
       "109         109  Männlich   54                0   \n",
       "110         110  Weiblich   64                3   \n",
       "111         111  Männlich   24                3   \n",
       "112         112  Weiblich   26                1   \n",
       "\n",
       "                          Type of Sport Ever used Sportapp  \\\n",
       "0     Joggen, Ballsportarten, Schwimmen                 Ja   \n",
       "1                 Fitness-Kurse, Tanzen                 Ja   \n",
       "2    Joggen, Kraftsport, Ballsportarten                 Ja   \n",
       "3            Kraftsport, Ballsportarten                 Ja   \n",
       "4       Ballsportarten, Fahrrad fahren                  Ja   \n",
       "..                                  ...                ...   \n",
       "108                              Walken               Nein   \n",
       "109                Schwimmen, Radfahren               Nein   \n",
       "110                       Fitness-Kurse                 Ja   \n",
       "111                           Badminton                 Ja   \n",
       "112       Ballsportarten, Fitness-Kurse                 Ja   \n",
       "\n",
       "     Frequency Sportapp                                   Reason sportapp   \\\n",
       "0                     1  Zum Tracken meiner Leistungen, Um mir Ziele zu...   \n",
       "1                     1  Zum Tracken meiner Leistungen, Um das Training...   \n",
       "2                     1                      Zum Tracken meiner Leistungen   \n",
       "3                     1  Zum Tracken meiner Leistungen, Um einen Sport-...   \n",
       "4                     0                      Zum Tracken meiner Leistungen   \n",
       "..                  ...                                                ...   \n",
       "108                   0                             Benutze keine Sportapp   \n",
       "109                   0                             Um mir Ziele zu setzen   \n",
       "110                   1  Zum Tracken meiner Leistungen, Um Kurse zu Buc...   \n",
       "111                   1  Zum Tracken meiner Leistungen, Um das Training...   \n",
       "112                   1  Zum Tracken meiner Leistungen, Um mir Ziele zu...   \n",
       "\n",
       "    Goals more efficient through sportapp  \\\n",
       "0                                      Ja   \n",
       "1                                      Ja   \n",
       "2                                      Ja   \n",
       "3                                      Ja   \n",
       "4                                      Ja   \n",
       "..                                    ...   \n",
       "108                                  Nein   \n",
       "109                                  Nein   \n",
       "110                                    Ja   \n",
       "111                                    Ja   \n",
       "112                                    Ja   \n",
       "\n",
       "    Motivation when comparing to friends  Amotivation  External Regulation  \\\n",
       "0                                   Nein         1.25                 2.75   \n",
       "1                                     Ja         3.00                 3.00   \n",
       "2                                   Nein         1.25                 2.00   \n",
       "3                                   Nein         1.50                 2.25   \n",
       "4                                   Nein         2.25                 2.00   \n",
       "..                                   ...          ...                  ...   \n",
       "108                                 Nein         1.00                 1.00   \n",
       "109                                 Nein         1.00                 1.50   \n",
       "110                                 Nein         1.50                 2.00   \n",
       "111                                   Ja         2.50                 2.25   \n",
       "112                                 Nein         1.50                 1.00   \n",
       "\n",
       "     Introjected Regulation  Identified Regulation  Integrated Regulation  \\\n",
       "0                      4.00                   3.50                   4.25   \n",
       "1                      4.00                   3.75                   3.25   \n",
       "2                      4.50                   3.00                   4.25   \n",
       "3                      3.25                   3.75                   5.00   \n",
       "4                      3.00                   3.00                   3.75   \n",
       "..                      ...                    ...                    ...   \n",
       "108                    2.00                   1.00                   1.00   \n",
       "109                    2.75                   1.50                   1.75   \n",
       "110                    4.75                   3.50                   3.50   \n",
       "111                    3.75                   3.50                   3.75   \n",
       "112                    2.25                   2.75                   2.75   \n",
       "\n",
       "     Intrinsic Motivation  numSports  compare  track performance  \\\n",
       "0                    4.25          2        0                  1   \n",
       "1                    3.50          1        1                  1   \n",
       "2                    4.25          2        0                  1   \n",
       "3                    4.00          1        0                  1   \n",
       "4                    2.50          1        0                  1   \n",
       "..                    ...        ...      ...                ...   \n",
       "108                  1.00          0        0                  0   \n",
       "109                  1.75          1        0                  0   \n",
       "110                  4.25          0        0                  1   \n",
       "111                  4.25          0        1                  1   \n",
       "112                  2.25          1        0                  1   \n",
       "\n",
       "     mean of Intrinsic motivations  \n",
       "0                         4.000000  \n",
       "1                         3.500000  \n",
       "2                         3.833333  \n",
       "3                         4.250000  \n",
       "4                         3.083333  \n",
       "..                             ...  \n",
       "108                       1.000000  \n",
       "109                       1.666667  \n",
       "110                       3.750000  \n",
       "111                       3.833333  \n",
       "112                       2.583333  \n",
       "\n",
       "[113 rows x 20 columns]"
      ]
     },
     "execution_count": 22,
     "metadata": {},
     "output_type": "execute_result"
    }
   ],
   "source": [
    "data = pd.read_csv(\"data.csv\")\n",
    "data\n"
   ]
  },
  {
   "cell_type": "code",
   "execution_count": 23,
   "metadata": {},
   "outputs": [
    {
     "name": "stderr",
     "output_type": "stream",
     "text": [
      "<ipython-input-23-7dda6da6f5a9>:1: FutureWarning: Indexing with multiple keys (implicitly converted to a tuple of keys) will be deprecated, use a list instead.\n",
      "  meandata = data.groupby('Ever used Sportapp',as_index=False)['Amotivation','External Regulation','Introjected Regulation','mean of Intrinsic motivations'].mean()\n"
     ]
    },
    {
     "data": {
      "image/png": "[encoded data removed]",
      "text/plain": [
       "<Figure size 432x288 with 1 Axes>"
      ]
     },
     "metadata": {
      "needs_background": "light"
     },
     "output_type": "display_data"
    },
    {
     "data": {
      "text/plain": [
       "<Figure size 432x288 with 0 Axes>"
      ]
     },
     "metadata": {},
     "output_type": "display_data"
    }
   ],
   "source": [
    "meandata = data.groupby('Ever used Sportapp',as_index=False)['Amotivation','External Regulation','Introjected Regulation','mean of Intrinsic motivations'].mean()\n",
    "meandata = meandata[meandata.columns[1:]]\n",
    "meandata\n",
    "\n",
    "#impact of using sports app on different sports motivation types\n",
    "\n",
    "\n",
    "X = ['AM','ER','IntrojR','InrinsicMean'] # motivation types \n",
    "\n",
    "data_yes = meandata.iloc[0].to_list()\n",
    "data_no = meandata.iloc[1].to_list()\n",
    "\n",
    "X_axis = np.arange(len(X))\n",
    "  \n",
    "plt.bar(X_axis - 0.2, data_yes, 0.4, label = 'Yes')\n",
    "plt.bar(X_axis + 0.2, data_no, 0.4, label = 'No')\n",
    "  \n",
    "plt.xticks(X_axis, X)\n",
    "plt.xlabel(\"Types of motivation\")\n",
    "plt.ylabel(\"Motivation Scale\")\n",
    "plt.title(\"Ever used a Sports app\")\n",
    "\n",
    "\n",
    "plt.legend()\n",
    "plt.show()\n",
    "\n",
    "###################\n",
    "\n",
    "plt.savefig('everUsedSportsapp.png')"
   ]
  },
  {
   "cell_type": "code",
   "execution_count": 24,
   "metadata": {},
   "outputs": [
    {
     "name": "stderr",
     "output_type": "stream",
     "text": [
      "<ipython-input-24-87d2ef6634a6>:1: FutureWarning: Indexing with multiple keys (implicitly converted to a tuple of keys) will be deprecated, use a list instead.\n",
      "  meandata = data.groupby('Goals more efficient through sportapp',as_index=False)['Amotivation','External Regulation','Introjected Regulation','mean of Intrinsic motivations'].mean()\n"
     ]
    },
    {
     "data": {
      "image/png": "[encoded data removed]",
      "text/plain": [
       "<Figure size 432x288 with 1 Axes>"
      ]
     },
     "metadata": {
      "needs_background": "light"
     },
     "output_type": "display_data"
    }
   ],
   "source": [
    "meandata = data.groupby('Goals more efficient through sportapp',as_index=False)['Amotivation','External Regulation','Introjected Regulation','mean of Intrinsic motivations'].mean()\n",
    "meandata = meandata[meandata.columns[1:]]\n",
    "\n",
    "#impact of using sports app on different sports motivation types\n",
    "\n",
    "X = ['AM','ER','IntrR','IntrincM'] # motivation types \n",
    "\n",
    "data_yes = meandata.iloc[0].to_list()\n",
    "data_no = meandata.iloc[1].to_list()\n",
    "\n",
    "  \n",
    "X_axis = np.arange(len(X))\n",
    "  \n",
    "plt.bar(X_axis - 0.2, data_yes, 0.4, label = 'Ja')\n",
    "plt.bar(X_axis + 0.2, data_no, 0.4, label = 'Nein')\n",
    "  \n",
    "plt.xticks(X_axis, X)\n",
    "plt.xlabel(\"Types of motivation\")\n",
    "plt.ylabel(\"Mean Motivation\")\n",
    "plt.title(\"mean motivation compared to opinion of people: Goals more efficient through sportapp\")\n",
    "plt.legend()\n",
    "plt.show()"
   ]
  },
  {
   "cell_type": "code",
   "execution_count": 25,
   "metadata": {},
   "outputs": [
    {
     "name": "stderr",
     "output_type": "stream",
     "text": [
      "<ipython-input-25-1e2e5e0c7170>:1: FutureWarning: Indexing with multiple keys (implicitly converted to a tuple of keys) will be deprecated, use a list instead.\n",
      "  meandata = data.groupby('Motivation when comparing to friends',as_index=False)['Amotivation','External Regulation','Introjected Regulation','mean of Intrinsic motivations'].mean()\n"
     ]
    },
    {
     "data": {
      "image/png": "[encoded data removed]",
      "text/plain": [
       "<Figure size 432x288 with 1 Axes>"
      ]
     },
     "metadata": {
      "needs_background": "light"
     },
     "output_type": "display_data"
    },
    {
     "data": {
      "text/plain": [
       "<Figure size 432x288 with 0 Axes>"
      ]
     },
     "metadata": {},
     "output_type": "display_data"
    }
   ],
   "source": [
    "meandata = data.groupby('Motivation when comparing to friends',as_index=False)['Amotivation','External Regulation','Introjected Regulation','mean of Intrinsic motivations'].mean()\n",
    "meandata = meandata[meandata.columns[1:]]\n",
    "\n",
    "#impact of using sports app on different sports motivation types\n",
    "\n",
    "X = ['AM','ER','IntrR','InrinsicMean'] # motivation types \n",
    "\n",
    "data_yes = meandata.iloc[0].to_list()\n",
    "data_no = meandata.iloc[1].to_list()\n",
    "\n",
    "  \n",
    "X_axis = np.arange(len(X))\n",
    "  \n",
    "plt.bar(X_axis - 0.2, data_yes, 0.4, label = 'Yes')\n",
    "plt.bar(X_axis + 0.2, data_no, 0.4, label = 'No')\n",
    "  \n",
    "plt.xticks(X_axis, X)\n",
    "plt.xlabel(\"Types of motivation\")\n",
    "plt.ylabel(\"Mean Motivation\")\n",
    "plt.title(\"Motivated when comparing to friends\")\n",
    "plt.legend()\n",
    "plt.show()\n",
    "\n",
    "\n",
    "###############################################\n",
    "plt.savefig('comparingToFriends.png')"
   ]
  },
  {
   "cell_type": "code",
   "execution_count": 26,
   "metadata": {},
   "outputs": [
    {
     "name": "stderr",
     "output_type": "stream",
     "text": [
      "<ipython-input-26-3fc6bd285946>:1: FutureWarning: Indexing with multiple keys (implicitly converted to a tuple of keys) will be deprecated, use a list instead.\n",
      "  meandata = data.groupby('Frequency Sportapp',as_index=False)['Amotivation','External Regulation','Introjected Regulation','mean of Intrinsic motivations'].mean()\n"
     ]
    },
    {
     "data": {
      "image/png": "[encoded data removed]",
      "text/plain": [
       "<Figure size 432x288 with 1 Axes>"
      ]
     },
     "metadata": {
      "needs_background": "light"
     },
     "output_type": "display_data"
    }
   ],
   "source": [
    "meandata = data.groupby('Frequency Sportapp',as_index=False)['Amotivation','External Regulation','Introjected Regulation','mean of Intrinsic motivations'].mean()\n",
    "meandata = meandata[meandata.columns[1:]]\n",
    "\n",
    "#impact of frequency in using sports app on different sports motivation types\n",
    "\n",
    "X = ['AM','ER','IntrR','IntrincM'] # motivation types \n",
    "\n",
    "data_0 = meandata.iloc[0].to_list()\n",
    "data_1 = meandata.iloc[1].to_list()\n",
    "data_2 = meandata.iloc[2].to_list()\n",
    "data_3 = meandata.iloc[3].to_list()\n",
    "\n",
    "  \n",
    "X_axis = np.arange(len(X))\n",
    "  \n",
    "plt.bar(X_axis - 0.2, data_0, 0.1, label = '0')\n",
    "plt.bar(X_axis - 0.1, data_1, 0.1, label = '1')\n",
    "plt.bar(X_axis , data_2, 0.1, label = '2')\n",
    "plt.bar(X_axis + 0.1, data_3, 0.1, label = '3')\n",
    "  \n",
    "plt.xticks(X_axis, X)\n",
    "plt.xlabel(\"Types of motivation\")\n",
    "plt.ylabel(\"Mean Motivation\")\n",
    "plt.title(\"mean motivation compared to the Frequece using of sport app\")\n",
    "plt.legend()\n",
    "plt.show()\n"
   ]
  },
  {
   "cell_type": "code",
   "execution_count": 27,
   "metadata": {},
   "outputs": [
    {
     "name": "stderr",
     "output_type": "stream",
     "text": [
      "<ipython-input-27-a984fc100214>:1: FutureWarning: Indexing with multiple keys (implicitly converted to a tuple of keys) will be deprecated, use a list instead.\n",
      "  meandata = data.groupby('numSports',as_index=False)['Amotivation','External Regulation','Introjected Regulation','mean of Intrinsic motivations'].mean()\n"
     ]
    },
    {
     "data": {
      "image/png": "[encoded data removed]",
      "text/plain": [
       "<Figure size 432x288 with 1 Axes>"
      ]
     },
     "metadata": {
      "needs_background": "light"
     },
     "output_type": "display_data"
    }
   ],
   "source": [
    "meandata = data.groupby('numSports',as_index=False)['Amotivation','External Regulation','Introjected Regulation','mean of Intrinsic motivations'].mean()\n",
    "meandata = meandata[meandata.columns[1:]]\n",
    "\n",
    "#impact of how many sport types people have on different sports motivation types\n",
    "\n",
    "X = ['AM','ER','IntrR','IntrincM'] # motivation types \n",
    "\n",
    "data_0 = meandata.iloc[0].to_list()\n",
    "data_1 = meandata.iloc[1].to_list()\n",
    "data_2 = meandata.iloc[2].to_list()\n",
    "data_3 = meandata.iloc[3].to_list()\n",
    "data_4= meandata.iloc[4].to_list()\n",
    "\n",
    "  \n",
    "X_axis = np.arange(len(X))\n",
    "  \n",
    "plt.bar(X_axis - 0.2, data_0, 0.1, label = '1')\n",
    "plt.bar(X_axis - 0.1, data_1, 0.1, label = '2')\n",
    "plt.bar(X_axis , data_2, 0.1, label = '3')\n",
    "plt.bar(X_axis + 0.1, data_3, 0.1, label = '4')\n",
    "plt.bar(X_axis + 0.2, data_4, 0.1, label = '5')\n",
    "  \n",
    "plt.xticks(X_axis, X)\n",
    "plt.xlabel(\"Types of motivation\")\n",
    "plt.ylabel(\"Mean Motivation\")\n",
    "plt.title(\"variety of different sports\")\n",
    "plt.legend()\n",
    "plt.show()\n"
   ]
  },
  {
   "cell_type": "code",
   "execution_count": 28,
   "metadata": {},
   "outputs": [
    {
     "name": "stderr",
     "output_type": "stream",
     "text": [
      "<ipython-input-28-3b58b2c1da46>:1: FutureWarning: Indexing with multiple keys (implicitly converted to a tuple of keys) will be deprecated, use a list instead.\n",
      "  meandata = data.groupby('track performance',as_index=False)['Amotivation','External Regulation','Introjected Regulation','mean of Intrinsic motivations'].mean()\n"
     ]
    },
    {
     "data": {
      "image/png": "[encoded data removed]",
      "text/plain": [
       "<Figure size 432x288 with 1 Axes>"
      ]
     },
     "metadata": {
      "needs_background": "light"
     },
     "output_type": "display_data"
    },
    {
     "data": {
      "text/plain": [
       "<Figure size 432x288 with 0 Axes>"
      ]
     },
     "metadata": {},
     "output_type": "display_data"
    }
   ],
   "source": [
    "meandata = data.groupby('track performance',as_index=False)['Amotivation','External Regulation','Introjected Regulation','mean of Intrinsic motivations'].mean()\n",
    "meandata = meandata[meandata.columns[1:]]\n",
    "\n",
    "#impact of using sports app on different sports motivation types\n",
    "\n",
    "X = ['AM','ER','IntrojR','InrinsicMean'] # motivation types \n",
    "\n",
    "data_yes = meandata.iloc[1].to_list()\n",
    "data_no = meandata.iloc[0].to_list()\n",
    "\n",
    "  \n",
    "X_axis = np.arange(len(X))\n",
    "  \n",
    "plt.bar(X_axis - 0.2, data_yes, 0.4, label = 'Yes')\n",
    "plt.bar(X_axis + 0.2, data_no, 0.4, label = 'No')\n",
    "  \n",
    "plt.xticks(X_axis, X)\n",
    "plt.xlabel(\"Types of motivation\")\n",
    "plt.ylabel(\"Motivation Scale\")\n",
    "plt.title(\"Reason usage sport app: Tracking Performance\")\n",
    "plt.legend()\n",
    "plt.show()\n",
    "##############################################\n",
    "\n",
    "plt.savefig('trackingPerf.png')"
   ]
  },
  {
   "cell_type": "code",
   "execution_count": 29,
   "metadata": {},
   "outputs": [
    {
     "name": "stdout",
     "output_type": "stream",
     "text": [
      "0.9568232297897339\n",
      "0.0010796304559335113\n"
     ]
    }
   ],
   "source": [
    "# checking if data is normally distibuted \n",
    "shapiro_test = stats.shapiro(data[\"Introjected Regulation\"])\n",
    "print(shapiro_test[0])\n",
    "#p-value: p<= 0.05 \n",
    "p_value= shapiro_test[1]\n",
    "print(p_value)"
   ]
  },
  {
   "cell_type": "code",
   "execution_count": 30,
   "metadata": {},
   "outputs": [
    {
     "name": "stdout",
     "output_type": "stream",
     "text": [
      "0.9440552592277527\n",
      "0.00013321063306648284\n"
     ]
    }
   ],
   "source": [
    "# checking if data is normally distibuted \n",
    "shapiro_test = stats.shapiro(data[\"Amotivation\"])\n",
    "print(shapiro_test[0])\n",
    "#p-value: p<= 0.05 \n",
    "p_value= shapiro_test[1]\n",
    "print(p_value)"
   ]
  },
  {
   "cell_type": "code",
   "execution_count": 31,
   "metadata": {},
   "outputs": [
    {
     "name": "stdout",
     "output_type": "stream",
     "text": [
      "0.9446211457252502\n",
      "0.00014547212049365044\n"
     ]
    }
   ],
   "source": [
    "# checking if data is normally distibuted \n",
    "shapiro_test = stats.shapiro(data[\"External Regulation\"])\n",
    "print(shapiro_test[0])\n",
    "#p-value: p<= 0.05 \n",
    "p_value= shapiro_test[1]\n",
    "print(p_value)"
   ]
  },
  {
   "cell_type": "code",
   "execution_count": 32,
   "metadata": {},
   "outputs": [
    {
     "name": "stdout",
     "output_type": "stream",
     "text": [
      "0.9716628193855286\n",
      "0.01671190932393074\n"
     ]
    }
   ],
   "source": [
    "# checking if data is normally distibuted \n",
    "shapiro_test = stats.shapiro(data[\"Identified Regulation\"])\n",
    "print(shapiro_test[0])\n",
    "#p-value: p<= 0.05 \n",
    "p_value= shapiro_test[1]\n",
    "print(p_value)"
   ]
  },
  {
   "cell_type": "code",
   "execution_count": 33,
   "metadata": {},
   "outputs": [
    {
     "name": "stdout",
     "output_type": "stream",
     "text": [
      "0.9190037250518799\n",
      "3.869223291985691e-06\n"
     ]
    }
   ],
   "source": [
    "# checking if data is normally distibuted \n",
    "shapiro_test = stats.shapiro(data[\"Integrated Regulation\"])\n",
    "print(shapiro_test[0])\n",
    "#p-value: p<= 0.05 \n",
    "p_value= shapiro_test[1]\n",
    "print(p_value)"
   ]
  },
  {
   "cell_type": "code",
   "execution_count": 34,
   "metadata": {},
   "outputs": [
    {
     "name": "stdout",
     "output_type": "stream",
     "text": [
      "0.9256382584571838\n",
      "9.284160114475526e-06\n"
     ]
    }
   ],
   "source": [
    "# checking if data is normally distibuted \n",
    "shapiro_test = stats.shapiro(data[\"Intrinsic Motivation\"])\n",
    "print(shapiro_test[0])\n",
    "#p-value: p<= 0.05 \n",
    "p_value= shapiro_test[1]\n",
    "print(p_value)"
   ]
  },
  {
   "cell_type": "code",
   "execution_count": 35,
   "metadata": {},
   "outputs": [
    {
     "name": "stdout",
     "output_type": "stream",
     "text": [
      "0.8574048280715942\n",
      "4.86439200031441e-09\n"
     ]
    }
   ],
   "source": [
    "# checking if data is normally distibuted \n",
    "shapiro_test = stats.shapiro(data[\"Frequency Sportapp\"])\n",
    "print(shapiro_test[0])\n",
    "#p-value: p<= 0.05 \n",
    "p_value= shapiro_test[1]\n",
    "print(p_value)"
   ]
  },
  {
   "cell_type": "code",
   "execution_count": 36,
   "metadata": {},
   "outputs": [
    {
     "name": "stdout",
     "output_type": "stream",
     "text": [
      "0.9348748326301575\n",
      "p_value 3.370347621967085e-05\n"
     ]
    }
   ],
   "source": [
    "# checking if data is normally distibuted \n",
    "shapiro_test = stats.shapiro(data[\"mean of Intrinsic motivations\"])\n",
    "print(shapiro_test[0])\n",
    "#p-value: p<= 0.05 \n",
    "p_value= shapiro_test[1]\n",
    "print('p_value' , p_value)"
   ]
  },
  {
   "cell_type": "code",
   "execution_count": 37,
   "metadata": {},
   "outputs": [],
   "source": [
    "# Question: Are people more Intrinsic motivated if they are using sport apps regularly (for any trainings)\n",
    "#h_0 : People are less intrisic motivated if they are not using sports apps for any training\n",
    "\n",
    "\n"
   ]
  }
 ],
 "metadata": {
  "kernelspec": {
   "display_name": "base",
   "language": "python",
   "name": "python3"
  },
  "language_info": {
   "codemirror_mode": {
    "name": "ipython",
    "version": 3
   },
   "file_extension": ".py",
   "mimetype": "text/x-python",
   "name": "python",
   "nbconvert_exporter": "python",
   "pygments_lexer": "ipython3",
   "version": "3.8.8"
  },
  "orig_nbformat": 4,
  "vscode": {
   "interpreter": {
    "hash": "40d3a090f54c6569ab1632332b64b2c03c39dcf918b08424e98f38b5ae0af88f"
   }
  }
 },
 "nbformat": 4,
 "nbformat_minor": 2
}
