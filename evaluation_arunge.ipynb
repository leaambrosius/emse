{
 "cells": [
  {
   "cell_type": "code",
   "execution_count": 1,
   "metadata": {
    "collapsed": true,
    "ExecuteTime": {
     "end_time": "2023-06-13T13:05:15.419459900Z",
     "start_time": "2023-06-13T13:05:14.599438100Z"
    }
   },
   "outputs": [
    {
     "data": {
      "text/plain": "       Unnamed: 0  Ihr Alter in Jahren:  Amotivation  External Regulation  \\\ncount  107.000000            107.000000   107.000000           107.000000   \nmean    55.560748             27.467290     1.892523             2.039720   \nstd     32.591288             11.172167     0.475970             0.713044   \nmin      0.000000             17.000000     1.000000             1.000000   \n25%     27.500000             23.000000     1.500000             1.500000   \n50%     56.000000             24.000000     1.750000             2.000000   \n75%     83.500000             27.000000     2.250000             2.500000   \nmax    112.000000             85.000000     3.250000             4.000000   \n\n       Introjected Regulation  Identified Regulation  Integrated Regulation  \\\ncount              107.000000             107.000000             107.000000   \nmean                 3.747664               3.102804               3.815421   \nstd                  0.729674               0.765526               0.865574   \nmin                  1.500000               1.000000               1.000000   \n25%                  3.250000               2.750000               3.500000   \n50%                  3.750000               3.000000               4.000000   \n75%                  4.250000               3.500000               4.500000   \nmax                  5.000000               4.750000               5.000000   \n\n       Intrinsic Motivation  \ncount            107.000000  \nmean               3.684579  \nstd                0.942533  \nmin                1.000000  \n25%                3.250000  \n50%                3.750000  \n75%                4.250000  \nmax                5.000000  ",
      "text/html": "<div>\n<style scoped>\n    .dataframe tbody tr th:only-of-type {\n        vertical-align: middle;\n    }\n\n    .dataframe tbody tr th {\n        vertical-align: top;\n    }\n\n    .dataframe thead th {\n        text-align: right;\n    }\n</style>\n<table border=\"1\" class=\"dataframe\">\n  <thead>\n    <tr style=\"text-align: right;\">\n      <th></th>\n      <th>Unnamed: 0</th>\n      <th>Ihr Alter in Jahren:</th>\n      <th>Amotivation</th>\n      <th>External Regulation</th>\n      <th>Introjected Regulation</th>\n      <th>Identified Regulation</th>\n      <th>Integrated Regulation</th>\n      <th>Intrinsic Motivation</th>\n    </tr>\n  </thead>\n  <tbody>\n    <tr>\n      <th>count</th>\n      <td>107.000000</td>\n      <td>107.000000</td>\n      <td>107.000000</td>\n      <td>107.000000</td>\n      <td>107.000000</td>\n      <td>107.000000</td>\n      <td>107.000000</td>\n      <td>107.000000</td>\n    </tr>\n    <tr>\n      <th>mean</th>\n      <td>55.560748</td>\n      <td>27.467290</td>\n      <td>1.892523</td>\n      <td>2.039720</td>\n      <td>3.747664</td>\n      <td>3.102804</td>\n      <td>3.815421</td>\n      <td>3.684579</td>\n    </tr>\n    <tr>\n      <th>std</th>\n      <td>32.591288</td>\n      <td>11.172167</td>\n      <td>0.475970</td>\n      <td>0.713044</td>\n      <td>0.729674</td>\n      <td>0.765526</td>\n      <td>0.865574</td>\n      <td>0.942533</td>\n    </tr>\n    <tr>\n      <th>min</th>\n      <td>0.000000</td>\n      <td>17.000000</td>\n      <td>1.000000</td>\n      <td>1.000000</td>\n      <td>1.500000</td>\n      <td>1.000000</td>\n      <td>1.000000</td>\n      <td>1.000000</td>\n    </tr>\n    <tr>\n      <th>25%</th>\n      <td>27.500000</td>\n      <td>23.000000</td>\n      <td>1.500000</td>\n      <td>1.500000</td>\n      <td>3.250000</td>\n      <td>2.750000</td>\n      <td>3.500000</td>\n      <td>3.250000</td>\n    </tr>\n    <tr>\n      <th>50%</th>\n      <td>56.000000</td>\n      <td>24.000000</td>\n      <td>1.750000</td>\n      <td>2.000000</td>\n      <td>3.750000</td>\n      <td>3.000000</td>\n      <td>4.000000</td>\n      <td>3.750000</td>\n    </tr>\n    <tr>\n      <th>75%</th>\n      <td>83.500000</td>\n      <td>27.000000</td>\n      <td>2.250000</td>\n      <td>2.500000</td>\n      <td>4.250000</td>\n      <td>3.500000</td>\n      <td>4.500000</td>\n      <td>4.250000</td>\n    </tr>\n    <tr>\n      <th>max</th>\n      <td>112.000000</td>\n      <td>85.000000</td>\n      <td>3.250000</td>\n      <td>4.000000</td>\n      <td>5.000000</td>\n      <td>4.750000</td>\n      <td>5.000000</td>\n      <td>5.000000</td>\n    </tr>\n  </tbody>\n</table>\n</div>"
     },
     "execution_count": 1,
     "metadata": {},
     "output_type": "execute_result"
    }
   ],
   "source": [
    "import numpy as np\n",
    "import pandas as pd\n",
    "data = pd.read_csv(\"data_arunge.csv\")\n",
    "data.describe()"
   ]
  },
  {
   "cell_type": "code",
   "execution_count": 10,
   "outputs": [],
   "source": [
    "#del data['Ihr Alter in Jahren:']\n",
    "del data['Wie häufig machen Sie in der Woche Sport?']\n",
    "del data['Motiviert es Sie, wenn Sie Ihre Leistungen mit denen Ihrer Freunde vergleichen?  ']\n",
    "del data['Glauben Sie, dass Sie Ihre Sportlichen Ziele durch Benutzung einer Sport-App effizienter erreichen können? ']\n",
    "del data['Wofür benutzen Sie Sport-Apps? (mehrere Antworten möglich)  ']\n",
    "del data['Wie oft benutzen Sie eine Sport-App?  ']\n",
    "del data['Welche Sportarten machen Sie? (mehrere Antworten möglich)']\n",
    "#gruppiert = data.groupby([\"Haben Sie schonmal Sport-Apps genutzt? (Z.B. Apple Sports, Adidas Running App, Komoot, Nike Training Club, Freeletics, Urban Sports Club, Stava, etc.)  \",\"Geschlecht\"]).mean()\n",
    "#gruppiert"
   ],
   "metadata": {
    "collapsed": false,
    "ExecuteTime": {
     "end_time": "2023-06-13T13:20:29.349291300Z",
     "start_time": "2023-06-13T13:20:29.332272100Z"
    }
   }
  },
  {
   "cell_type": "code",
   "execution_count": 11,
   "outputs": [
    {
     "data": {
      "text/plain": "     Unnamed: 0 Geschlecht  \\\n0             0   Weiblich   \n1             1   Weiblich   \n2             2   Weiblich   \n3             3   Weiblich   \n4             4   Weiblich   \n..          ...        ...   \n102         107   Weiblich   \n103         108   Weiblich   \n104         110   Weiblich   \n105         111   Männlich   \n106         112   Weiblich   \n\n    Haben Sie schonmal Sport-Apps genutzt? (Z.B. Apple Sports, Adidas Running App, Komoot, Nike Training Club, Freeletics, Urban Sports Club, Stava, etc.)    \\\n0                                                   Ja                                                                                                         \n1                                                   Ja                                                                                                         \n2                                                   Ja                                                                                                         \n3                                                   Ja                                                                                                         \n4                                                   Ja                                                                                                         \n..                                                 ...                                                                                                         \n102                                                 Ja                                                                                                         \n103                                               Nein                                                                                                         \n104                                                 Ja                                                                                                         \n105                                                 Ja                                                                                                         \n106                                                 Ja                                                                                                         \n\n     Amotivation  External Regulation  Introjected Regulation  \\\n0           1.25                 2.75                    4.00   \n1           3.00                 3.00                    4.00   \n2           1.25                 2.00                    4.50   \n3           1.50                 2.25                    3.25   \n4           2.25                 2.00                    3.00   \n..           ...                  ...                     ...   \n102         2.25                 2.75                    3.75   \n103         1.00                 1.00                    2.00   \n104         1.50                 2.00                    4.75   \n105         2.50                 2.25                    3.75   \n106         1.50                 1.00                    2.25   \n\n     Identified Regulation  Integrated Regulation  Intrinsic Motivation  \n0                     3.50                   4.25                  4.25  \n1                     3.75                   3.25                  3.50  \n2                     3.00                   4.25                  4.25  \n3                     3.75                   5.00                  4.00  \n4                     3.00                   3.75                  2.50  \n..                     ...                    ...                   ...  \n102                   2.50                   3.75                  3.50  \n103                   1.00                   1.00                  1.00  \n104                   3.50                   3.50                  4.25  \n105                   3.50                   3.75                  4.25  \n106                   2.75                   2.75                  2.25  \n\n[107 rows x 9 columns]",
      "text/html": "<div>\n<style scoped>\n    .dataframe tbody tr th:only-of-type {\n        vertical-align: middle;\n    }\n\n    .dataframe tbody tr th {\n        vertical-align: top;\n    }\n\n    .dataframe thead th {\n        text-align: right;\n    }\n</style>\n<table border=\"1\" class=\"dataframe\">\n  <thead>\n    <tr style=\"text-align: right;\">\n      <th></th>\n      <th>Unnamed: 0</th>\n      <th>Geschlecht</th>\n      <th>Haben Sie schonmal Sport-Apps genutzt? (Z.B. Apple Sports, Adidas Running App, Komoot, Nike Training Club, Freeletics, Urban Sports Club, Stava, etc.)</th>\n      <th>Amotivation</th>\n      <th>External Regulation</th>\n      <th>Introjected Regulation</th>\n      <th>Identified Regulation</th>\n      <th>Integrated Regulation</th>\n      <th>Intrinsic Motivation</th>\n    </tr>\n  </thead>\n  <tbody>\n    <tr>\n      <th>0</th>\n      <td>0</td>\n      <td>Weiblich</td>\n      <td>Ja</td>\n      <td>1.25</td>\n      <td>2.75</td>\n      <td>4.00</td>\n      <td>3.50</td>\n      <td>4.25</td>\n      <td>4.25</td>\n    </tr>\n    <tr>\n      <th>1</th>\n      <td>1</td>\n      <td>Weiblich</td>\n      <td>Ja</td>\n      <td>3.00</td>\n      <td>3.00</td>\n      <td>4.00</td>\n      <td>3.75</td>\n      <td>3.25</td>\n      <td>3.50</td>\n    </tr>\n    <tr>\n      <th>2</th>\n      <td>2</td>\n      <td>Weiblich</td>\n      <td>Ja</td>\n      <td>1.25</td>\n      <td>2.00</td>\n      <td>4.50</td>\n      <td>3.00</td>\n      <td>4.25</td>\n      <td>4.25</td>\n    </tr>\n    <tr>\n      <th>3</th>\n      <td>3</td>\n      <td>Weiblich</td>\n      <td>Ja</td>\n      <td>1.50</td>\n      <td>2.25</td>\n      <td>3.25</td>\n      <td>3.75</td>\n      <td>5.00</td>\n      <td>4.00</td>\n    </tr>\n    <tr>\n      <th>4</th>\n      <td>4</td>\n      <td>Weiblich</td>\n      <td>Ja</td>\n      <td>2.25</td>\n      <td>2.00</td>\n      <td>3.00</td>\n      <td>3.00</td>\n      <td>3.75</td>\n      <td>2.50</td>\n    </tr>\n    <tr>\n      <th>...</th>\n      <td>...</td>\n      <td>...</td>\n      <td>...</td>\n      <td>...</td>\n      <td>...</td>\n      <td>...</td>\n      <td>...</td>\n      <td>...</td>\n      <td>...</td>\n    </tr>\n    <tr>\n      <th>102</th>\n      <td>107</td>\n      <td>Weiblich</td>\n      <td>Ja</td>\n      <td>2.25</td>\n      <td>2.75</td>\n      <td>3.75</td>\n      <td>2.50</td>\n      <td>3.75</td>\n      <td>3.50</td>\n    </tr>\n    <tr>\n      <th>103</th>\n      <td>108</td>\n      <td>Weiblich</td>\n      <td>Nein</td>\n      <td>1.00</td>\n      <td>1.00</td>\n      <td>2.00</td>\n      <td>1.00</td>\n      <td>1.00</td>\n      <td>1.00</td>\n    </tr>\n    <tr>\n      <th>104</th>\n      <td>110</td>\n      <td>Weiblich</td>\n      <td>Ja</td>\n      <td>1.50</td>\n      <td>2.00</td>\n      <td>4.75</td>\n      <td>3.50</td>\n      <td>3.50</td>\n      <td>4.25</td>\n    </tr>\n    <tr>\n      <th>105</th>\n      <td>111</td>\n      <td>Männlich</td>\n      <td>Ja</td>\n      <td>2.50</td>\n      <td>2.25</td>\n      <td>3.75</td>\n      <td>3.50</td>\n      <td>3.75</td>\n      <td>4.25</td>\n    </tr>\n    <tr>\n      <th>106</th>\n      <td>112</td>\n      <td>Weiblich</td>\n      <td>Ja</td>\n      <td>1.50</td>\n      <td>1.00</td>\n      <td>2.25</td>\n      <td>2.75</td>\n      <td>2.75</td>\n      <td>2.25</td>\n    </tr>\n  </tbody>\n</table>\n<p>107 rows × 9 columns</p>\n</div>"
     },
     "execution_count": 11,
     "metadata": {},
     "output_type": "execute_result"
    }
   ],
   "source": [
    "data\n"
   ],
   "metadata": {
    "collapsed": false,
    "ExecuteTime": {
     "end_time": "2023-06-13T13:20:31.088333900Z",
     "start_time": "2023-06-13T13:20:31.041305100Z"
    }
   }
  },
  {
   "cell_type": "code",
   "execution_count": 12,
   "outputs": [
    {
     "data": {
      "text/plain": "                                                                 Unnamed: 0  \\\nHaben Sie schonmal Sport-Apps genutzt? (Z.B. Ap... Geschlecht                 \nJa                                                 Keine Angabe   66.000000   \n                                                   Männlich       66.431818   \n                                                   Weiblich       46.468085   \nNein                                               Männlich       65.800000   \n                                                   Weiblich       44.300000   \n\n                                                                 Amotivation  \\\nHaben Sie schonmal Sport-Apps genutzt? (Z.B. Ap... Geschlecht                  \nJa                                                 Keine Angabe     2.000000   \n                                                   Männlich         1.965909   \n                                                   Weiblich         1.792553   \nNein                                               Männlich         2.250000   \n                                                   Weiblich         1.850000   \n\n                                                                 External Regulation  \\\nHaben Sie schonmal Sport-Apps genutzt? (Z.B. Ap... Geschlecht                          \nJa                                                 Keine Angabe             1.750000   \n                                                   Männlich                 2.107955   \n                                                   Weiblich                 2.031915   \nNein                                               Männlich                 2.400000   \n                                                   Weiblich                 1.625000   \n\n                                                                 Introjected Regulation  \\\nHaben Sie schonmal Sport-Apps genutzt? (Z.B. Ap... Geschlecht                             \nJa                                                 Keine Angabe                3.250000   \n                                                   Männlich                    3.897727   \n                                                   Weiblich                    3.707447   \nNein                                               Männlich                    3.800000   \n                                                   Weiblich                    3.300000   \n\n                                                                 Identified Regulation  \\\nHaben Sie schonmal Sport-Apps genutzt? (Z.B. Ap... Geschlecht                            \nJa                                                 Keine Angabe               3.500000   \n                                                   Männlich                   3.255682   \n                                                   Weiblich                   3.122340   \nNein                                               Männlich                   2.850000   \n                                                   Weiblich                   2.425000   \n\n                                                                 Integrated Regulation  \\\nHaben Sie schonmal Sport-Apps genutzt? (Z.B. Ap... Geschlecht                            \nJa                                                 Keine Angabe               2.250000   \n                                                   Männlich                   3.857955   \n                                                   Weiblich                   3.952128   \nNein                                               Männlich                   4.100000   \n                                                   Weiblich                   3.000000   \n\n                                                                 Intrinsic Motivation  \nHaben Sie schonmal Sport-Apps genutzt? (Z.B. Ap... Geschlecht                          \nJa                                                 Keine Angabe              3.250000  \n                                                   Männlich                  3.880682  \n                                                   Weiblich                  3.702128  \nNein                                               Männlich                  3.850000  \n                                                   Weiblich                  2.700000  ",
      "text/html": "<div>\n<style scoped>\n    .dataframe tbody tr th:only-of-type {\n        vertical-align: middle;\n    }\n\n    .dataframe tbody tr th {\n        vertical-align: top;\n    }\n\n    .dataframe thead th {\n        text-align: right;\n    }\n</style>\n<table border=\"1\" class=\"dataframe\">\n  <thead>\n    <tr style=\"text-align: right;\">\n      <th></th>\n      <th></th>\n      <th>Unnamed: 0</th>\n      <th>Amotivation</th>\n      <th>External Regulation</th>\n      <th>Introjected Regulation</th>\n      <th>Identified Regulation</th>\n      <th>Integrated Regulation</th>\n      <th>Intrinsic Motivation</th>\n    </tr>\n    <tr>\n      <th>Haben Sie schonmal Sport-Apps genutzt? (Z.B. Apple Sports, Adidas Running App, Komoot, Nike Training Club, Freeletics, Urban Sports Club, Stava, etc.)</th>\n      <th>Geschlecht</th>\n      <th></th>\n      <th></th>\n      <th></th>\n      <th></th>\n      <th></th>\n      <th></th>\n      <th></th>\n    </tr>\n  </thead>\n  <tbody>\n    <tr>\n      <th rowspan=\"3\" valign=\"top\">Ja</th>\n      <th>Keine Angabe</th>\n      <td>66.000000</td>\n      <td>2.000000</td>\n      <td>1.750000</td>\n      <td>3.250000</td>\n      <td>3.500000</td>\n      <td>2.250000</td>\n      <td>3.250000</td>\n    </tr>\n    <tr>\n      <th>Männlich</th>\n      <td>66.431818</td>\n      <td>1.965909</td>\n      <td>2.107955</td>\n      <td>3.897727</td>\n      <td>3.255682</td>\n      <td>3.857955</td>\n      <td>3.880682</td>\n    </tr>\n    <tr>\n      <th>Weiblich</th>\n      <td>46.468085</td>\n      <td>1.792553</td>\n      <td>2.031915</td>\n      <td>3.707447</td>\n      <td>3.122340</td>\n      <td>3.952128</td>\n      <td>3.702128</td>\n    </tr>\n    <tr>\n      <th rowspan=\"2\" valign=\"top\">Nein</th>\n      <th>Männlich</th>\n      <td>65.800000</td>\n      <td>2.250000</td>\n      <td>2.400000</td>\n      <td>3.800000</td>\n      <td>2.850000</td>\n      <td>4.100000</td>\n      <td>3.850000</td>\n    </tr>\n    <tr>\n      <th>Weiblich</th>\n      <td>44.300000</td>\n      <td>1.850000</td>\n      <td>1.625000</td>\n      <td>3.300000</td>\n      <td>2.425000</td>\n      <td>3.000000</td>\n      <td>2.700000</td>\n    </tr>\n  </tbody>\n</table>\n</div>"
     },
     "execution_count": 12,
     "metadata": {},
     "output_type": "execute_result"
    }
   ],
   "source": [
    "gruppiert = data.groupby([\"Haben Sie schonmal Sport-Apps genutzt? (Z.B. Apple Sports, Adidas Running App, Komoot, Nike Training Club, Freeletics, Urban Sports Club, Stava, etc.)  \",\"Geschlecht\"]).mean()\n",
    "gruppiert"
   ],
   "metadata": {
    "collapsed": false,
    "ExecuteTime": {
     "end_time": "2023-06-13T13:20:53.751470300Z",
     "start_time": "2023-06-13T13:20:53.702042800Z"
    }
   }
  },
  {
   "cell_type": "code",
   "execution_count": null,
   "outputs": [],
   "source": [],
   "metadata": {
    "collapsed": false
   }
  }
 ],
 "metadata": {
  "kernelspec": {
   "display_name": "Python 3",
   "language": "python",
   "name": "python3"
  },
  "language_info": {
   "codemirror_mode": {
    "name": "ipython",
    "version": 2
   },
   "file_extension": ".py",
   "mimetype": "text/x-python",
   "name": "python",
   "nbconvert_exporter": "python",
   "pygments_lexer": "ipython2",
   "version": "2.7.6"
  }
 },
 "nbformat": 4,
 "nbformat_minor": 0
}
