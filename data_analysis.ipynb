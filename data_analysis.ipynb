{
 "cells": [
  {
   "cell_type": "code",
   "execution_count": 6,
   "metadata": {},
   "outputs": [],
   "source": [
    "import numpy as np\n",
    "import pandas as pd\n",
    "from matplotlib import pyplot as plt\n",
    "import seaborn as sns \n",
    "from scipy import stats"
   ]
  },
  {
   "cell_type": "code",
   "execution_count": 7,
   "metadata": {},
   "outputs": [
    {
     "data": {
      "text/html": [
       "<div>\n",
       "<style scoped>\n",
       "    .dataframe tbody tr th:only-of-type {\n",
       "        vertical-align: middle;\n",
       "    }\n",
       "\n",
       "    .dataframe tbody tr th {\n",
       "        vertical-align: top;\n",
       "    }\n",
       "\n",
       "    .dataframe thead th {\n",
       "        text-align: right;\n",
       "    }\n",
       "</style>\n",
       "<table border=\"1\" class=\"dataframe\">\n",
       "  <thead>\n",
       "    <tr style=\"text-align: right;\">\n",
       "      <th></th>\n",
       "      <th>Unnamed: 0</th>\n",
       "      <th>Gender</th>\n",
       "      <th>Age</th>\n",
       "      <th>Sport Frequency</th>\n",
       "      <th>Type of Sport</th>\n",
       "      <th>Ever used Sportapp</th>\n",
       "      <th>Frequency Sportapp</th>\n",
       "      <th>Reason sportapp</th>\n",
       "      <th>Goals more efficient through sportapp</th>\n",
       "      <th>Motivation when comparing to friends</th>\n",
       "      <th>Amotivation</th>\n",
       "      <th>External Regulation</th>\n",
       "      <th>Introjected Regulation</th>\n",
       "      <th>Identified Regulation</th>\n",
       "      <th>Integrated Regulation</th>\n",
       "      <th>Intrinsic Motivation</th>\n",
       "      <th>track performance</th>\n",
       "      <th>mean of Intrinsic motivations</th>\n",
       "    </tr>\n",
       "  </thead>\n",
       "  <tbody>\n",
       "    <tr>\n",
       "      <th>0</th>\n",
       "      <td>0</td>\n",
       "      <td>Weiblich</td>\n",
       "      <td>22</td>\n",
       "      <td>5</td>\n",
       "      <td>Joggen, Ballsportarten (z.B. Fußball, Handball...</td>\n",
       "      <td>Ja</td>\n",
       "      <td>1</td>\n",
       "      <td>Zum Tracken meiner Leistungen, Um mir Ziele zu...</td>\n",
       "      <td>Ja</td>\n",
       "      <td>Nein</td>\n",
       "      <td>1.25</td>\n",
       "      <td>2.75</td>\n",
       "      <td>4.00</td>\n",
       "      <td>3.50</td>\n",
       "      <td>4.25</td>\n",
       "      <td>4.25</td>\n",
       "      <td>1</td>\n",
       "      <td>4.000000</td>\n",
       "    </tr>\n",
       "    <tr>\n",
       "      <th>1</th>\n",
       "      <td>1</td>\n",
       "      <td>Weiblich</td>\n",
       "      <td>23</td>\n",
       "      <td>3</td>\n",
       "      <td>Fitness-Kurse, Tanzen</td>\n",
       "      <td>Ja</td>\n",
       "      <td>1</td>\n",
       "      <td>Zum Tracken meiner Leistungen, Um das Training...</td>\n",
       "      <td>Ja</td>\n",
       "      <td>Ja</td>\n",
       "      <td>3.00</td>\n",
       "      <td>3.00</td>\n",
       "      <td>4.00</td>\n",
       "      <td>3.75</td>\n",
       "      <td>3.25</td>\n",
       "      <td>3.50</td>\n",
       "      <td>1</td>\n",
       "      <td>3.500000</td>\n",
       "    </tr>\n",
       "    <tr>\n",
       "      <th>2</th>\n",
       "      <td>2</td>\n",
       "      <td>Weiblich</td>\n",
       "      <td>25</td>\n",
       "      <td>3</td>\n",
       "      <td>Joggen, Kraftsport, Ballsportarten (z.B. Fußba...</td>\n",
       "      <td>Ja</td>\n",
       "      <td>1</td>\n",
       "      <td>Zum Tracken meiner Leistungen</td>\n",
       "      <td>Ja</td>\n",
       "      <td>Nein</td>\n",
       "      <td>1.25</td>\n",
       "      <td>2.00</td>\n",
       "      <td>4.50</td>\n",
       "      <td>3.00</td>\n",
       "      <td>4.25</td>\n",
       "      <td>4.25</td>\n",
       "      <td>1</td>\n",
       "      <td>3.833333</td>\n",
       "    </tr>\n",
       "    <tr>\n",
       "      <th>3</th>\n",
       "      <td>3</td>\n",
       "      <td>Weiblich</td>\n",
       "      <td>18</td>\n",
       "      <td>3</td>\n",
       "      <td>Kraftsport, Ballsportarten (z.B. Fußball, Hand...</td>\n",
       "      <td>Ja</td>\n",
       "      <td>1</td>\n",
       "      <td>Zum Tracken meiner Leistungen, Um einen Sport-...</td>\n",
       "      <td>Ja</td>\n",
       "      <td>Nein</td>\n",
       "      <td>1.50</td>\n",
       "      <td>2.25</td>\n",
       "      <td>3.25</td>\n",
       "      <td>3.75</td>\n",
       "      <td>5.00</td>\n",
       "      <td>4.00</td>\n",
       "      <td>1</td>\n",
       "      <td>4.250000</td>\n",
       "    </tr>\n",
       "  </tbody>\n",
       "</table>\n",
       "</div>"
      ],
      "text/plain": [
       "   Unnamed: 0    Gender  Age  Sport Frequency  \\\n",
       "0           0  Weiblich   22                5   \n",
       "1           1  Weiblich   23                3   \n",
       "2           2  Weiblich   25                3   \n",
       "3           3  Weiblich   18                3   \n",
       "\n",
       "                                       Type of Sport Ever used Sportapp  \\\n",
       "0  Joggen, Ballsportarten (z.B. Fußball, Handball...                 Ja   \n",
       "1                              Fitness-Kurse, Tanzen                 Ja   \n",
       "2  Joggen, Kraftsport, Ballsportarten (z.B. Fußba...                 Ja   \n",
       "3  Kraftsport, Ballsportarten (z.B. Fußball, Hand...                 Ja   \n",
       "\n",
       "   Frequency Sportapp                                   Reason sportapp   \\\n",
       "0                   1  Zum Tracken meiner Leistungen, Um mir Ziele zu...   \n",
       "1                   1  Zum Tracken meiner Leistungen, Um das Training...   \n",
       "2                   1                      Zum Tracken meiner Leistungen   \n",
       "3                   1  Zum Tracken meiner Leistungen, Um einen Sport-...   \n",
       "\n",
       "  Goals more efficient through sportapp Motivation when comparing to friends  \\\n",
       "0                                    Ja                                 Nein   \n",
       "1                                    Ja                                   Ja   \n",
       "2                                    Ja                                 Nein   \n",
       "3                                    Ja                                 Nein   \n",
       "\n",
       "   Amotivation  External Regulation  Introjected Regulation  \\\n",
       "0         1.25                 2.75                    4.00   \n",
       "1         3.00                 3.00                    4.00   \n",
       "2         1.25                 2.00                    4.50   \n",
       "3         1.50                 2.25                    3.25   \n",
       "\n",
       "   Identified Regulation  Integrated Regulation  Intrinsic Motivation  \\\n",
       "0                   3.50                   4.25                  4.25   \n",
       "1                   3.75                   3.25                  3.50   \n",
       "2                   3.00                   4.25                  4.25   \n",
       "3                   3.75                   5.00                  4.00   \n",
       "\n",
       "   track performance  mean of Intrinsic motivations  \n",
       "0                  1                       4.000000  \n",
       "1                  1                       3.500000  \n",
       "2                  1                       3.833333  \n",
       "3                  1                       4.250000  "
      ]
     },
     "execution_count": 7,
     "metadata": {},
     "output_type": "execute_result"
    }
   ],
   "source": [
    "data = pd.read_csv(\"data.csv\")\n",
    "data.head(4)\n"
   ]
  },
  {
   "cell_type": "code",
   "execution_count": 8,
   "metadata": {},
   "outputs": [
    {
     "name": "stderr",
     "output_type": "stream",
     "text": [
      "<ipython-input-8-9dd8bc8c73de>:1: FutureWarning: Indexing with multiple keys (implicitly converted to a tuple of keys) will be deprecated, use a list instead.\n",
      "  meandata = data.groupby('Ever used Sportapp',as_index=False)['Amotivation','External Regulation','Introjected Regulation','mean of Intrinsic motivations'].mean()\n"
     ]
    },
    {
     "data": {
      "image/png": "[encoded data removed]",
      "text/plain": [
       "<Figure size 432x288 with 1 Axes>"
      ]
     },
     "metadata": {
      "needs_background": "light"
     },
     "output_type": "display_data"
    }
   ],
   "source": [
    "meandata = data.groupby('Ever used Sportapp',as_index=False)['Amotivation','External Regulation','Introjected Regulation','mean of Intrinsic motivations'].mean()\n",
    "meandata = meandata[meandata.columns[1:]]\n",
    "meandata\n",
    "\n",
    "#impact of using sports app on different sports motivation types\n",
    "\n",
    "X = ['AM','ER','IntrojR','InrinsicMean'] # motivation types \n",
    "\n",
    "data_yes = meandata.iloc[0].to_list()\n",
    "data_no = meandata.iloc[1].to_list()\n",
    "\n",
    "X_axis = np.arange(len(X))\n",
    "  \n",
    "plt.bar(X_axis - 0.2, data_yes, 0.4, label = 'Yes')\n",
    "plt.bar(X_axis + 0.2, data_no, 0.4, label = 'No')\n",
    "\n",
    "plt.xticks(X_axis, X)\n",
    "plt.ylim(1, 5)\n",
    "plt.xlabel(\"Types of motivation\")\n",
    "plt.ylabel(\"Motivation Scale\")\n",
    "plt.title(\"Ever used a Sports app\")\n",
    "\n",
    "plt.legend()\n",
    "plt.savefig('everUsedSportsapp.pdf')\n",
    "plt.show()"
   ]
  },
  {
   "cell_type": "code",
   "execution_count": 9,
   "metadata": {},
   "outputs": [
    {
     "name": "stderr",
     "output_type": "stream",
     "text": [
      "<ipython-input-9-fc929017b9e6>:1: FutureWarning: Indexing with multiple keys (implicitly converted to a tuple of keys) will be deprecated, use a list instead.\n",
      "  meandata = data.groupby('Motivation when comparing to friends',as_index=False)['Amotivation','External Regulation','Introjected Regulation','mean of Intrinsic motivations'].mean()\n"
     ]
    },
    {
     "data": {
      "image/png": "[encoded data removed]",
      "text/plain": [
       "<Figure size 432x288 with 1 Axes>"
      ]
     },
     "metadata": {
      "needs_background": "light"
     },
     "output_type": "display_data"
    }
   ],
   "source": [
    "meandata = data.groupby('Motivation when comparing to friends',as_index=False)['Amotivation','External Regulation','Introjected Regulation','mean of Intrinsic motivations'].mean()\n",
    "meandata = meandata[meandata.columns[1:]]\n",
    "\n",
    "#impact of using sports app on different sports motivation types\n",
    "\n",
    "X = ['AM','ER','IntrR','InrinsicMean'] # motivation types \n",
    "\n",
    "data_yes = meandata.iloc[0].to_list()\n",
    "data_no = meandata.iloc[1].to_list()\n",
    "  \n",
    "X_axis = np.arange(len(X))\n",
    "  \n",
    "plt.bar(X_axis - 0.2, data_yes, 0.4, label = 'Yes')\n",
    "plt.bar(X_axis + 0.2, data_no, 0.4, label = 'No')\n",
    "  \n",
    "plt.xticks(X_axis, X)\n",
    "plt.xlabel(\"Types of motivation\")\n",
    "plt.ylim(1, 5)\n",
    "plt.ylabel(\"Mean Motivation\")\n",
    "plt.title(\"Motivated when comparing to friends\")\n",
    "plt.legend()\n",
    "\n",
    "plt.savefig('comparingToFriends.pdf')\n",
    "plt.show()"
   ]
  },
  {
   "cell_type": "code",
   "execution_count": 10,
   "metadata": {},
   "outputs": [
    {
     "name": "stderr",
     "output_type": "stream",
     "text": [
      "<ipython-input-10-c30e4f0b59d0>:1: FutureWarning: Indexing with multiple keys (implicitly converted to a tuple of keys) will be deprecated, use a list instead.\n",
      "  meandata = data.groupby('track performance',as_index=False)['Amotivation','External Regulation','Introjected Regulation','mean of Intrinsic motivations'].mean()\n"
     ]
    },
    {
     "data": {
      "image/png": "[encoded data removed]",
      "text/plain": [
       "<Figure size 432x288 with 1 Axes>"
      ]
     },
     "metadata": {
      "needs_background": "light"
     },
     "output_type": "display_data"
    }
   ],
   "source": [
    "meandata = data.groupby('track performance',as_index=False)['Amotivation','External Regulation','Introjected Regulation','mean of Intrinsic motivations'].mean()\n",
    "meandata = meandata[meandata.columns[1:]]\n",
    "\n",
    "#impact of using sports app on different sports motivation types\n",
    "\n",
    "X = ['AM','ER','IntrojR','InrinsicMean'] # motivation types \n",
    "\n",
    "data_yes = meandata.iloc[1].to_list()\n",
    "data_no = meandata.iloc[0].to_list()\n",
    "  \n",
    "X_axis = np.arange(len(X))\n",
    "  \n",
    "plt.bar(X_axis - 0.2, data_yes, 0.4, label = 'Yes')\n",
    "plt.bar(X_axis + 0.2, data_no, 0.4, label = 'No')\n",
    "  \n",
    "plt.xticks(X_axis, X)\n",
    "plt.xlabel(\"Types of motivation\")\n",
    "plt.ylim(1, 5)\n",
    "plt.ylabel(\"Motivation Scale\")\n",
    "plt.title(\"Reason usage sport app: Tracking Performance\")\n",
    "plt.legend()\n",
    "\n",
    "plt.savefig('trackingPerf.pdf')\n",
    "plt.show()"
   ]
  },
  {
   "attachments": {},
   "cell_type": "markdown",
   "metadata": {},
   "source": [
    "# Use Shapiro-Wilk-Testt to check if data is normally distibuted"
   ]
  },
  {
   "cell_type": "code",
   "execution_count": 11,
   "metadata": {},
   "outputs": [
    {
     "name": "stdout",
     "output_type": "stream",
     "text": [
      "0.9568232297897339\n",
      "0.0010796304559335113\n"
     ]
    }
   ],
   "source": [
    "# checking if data is normally distibuted \n",
    "shapiro_test = stats.shapiro(data[\"Introjected Regulation\"])\n",
    "print(shapiro_test[0])\n",
    "#p-value: p<= 0.05 \n",
    "p_value= shapiro_test[1]\n",
    "print(p_value)"
   ]
  },
  {
   "cell_type": "code",
   "execution_count": 12,
   "metadata": {},
   "outputs": [
    {
     "name": "stdout",
     "output_type": "stream",
     "text": [
      "0.9440552592277527\n",
      "0.00013321063306648284\n"
     ]
    }
   ],
   "source": [
    "# checking if data is normally distibuted \n",
    "shapiro_test = stats.shapiro(data[\"Amotivation\"])\n",
    "print(shapiro_test[0])\n",
    "#p-value: p<= 0.05 \n",
    "p_value= shapiro_test[1]\n",
    "print(p_value)"
   ]
  },
  {
   "cell_type": "code",
   "execution_count": 13,
   "metadata": {},
   "outputs": [
    {
     "name": "stdout",
     "output_type": "stream",
     "text": [
      "0.9446211457252502\n",
      "0.00014547212049365044\n"
     ]
    }
   ],
   "source": [
    "# checking if data is normally distibuted \n",
    "shapiro_test = stats.shapiro(data[\"External Regulation\"])\n",
    "print(shapiro_test[0])\n",
    "#p-value: p<= 0.05 \n",
    "p_value= shapiro_test[1]\n",
    "print(p_value)"
   ]
  },
  {
   "cell_type": "code",
   "execution_count": 14,
   "metadata": {},
   "outputs": [
    {
     "name": "stdout",
     "output_type": "stream",
     "text": [
      "0.9716628193855286\n",
      "0.01671190932393074\n"
     ]
    }
   ],
   "source": [
    "# checking if data is normally distibuted \n",
    "shapiro_test = stats.shapiro(data[\"Identified Regulation\"])\n",
    "print(shapiro_test[0])\n",
    "#p-value: p<= 0.05 \n",
    "p_value= shapiro_test[1]\n",
    "print(p_value)"
   ]
  },
  {
   "cell_type": "code",
   "execution_count": 15,
   "metadata": {},
   "outputs": [
    {
     "name": "stdout",
     "output_type": "stream",
     "text": [
      "0.9190037250518799\n",
      "3.869223291985691e-06\n"
     ]
    }
   ],
   "source": [
    "# checking if data is normally distibuted \n",
    "shapiro_test = stats.shapiro(data[\"Integrated Regulation\"])\n",
    "print(shapiro_test[0])\n",
    "#p-value: p<= 0.05 \n",
    "p_value= shapiro_test[1]\n",
    "print(p_value)"
   ]
  },
  {
   "cell_type": "code",
   "execution_count": 16,
   "metadata": {},
   "outputs": [
    {
     "name": "stdout",
     "output_type": "stream",
     "text": [
      "0.9256382584571838\n",
      "9.284160114475526e-06\n"
     ]
    }
   ],
   "source": [
    "# checking if data is normally distibuted \n",
    "shapiro_test = stats.shapiro(data[\"Intrinsic Motivation\"])\n",
    "print(shapiro_test[0])\n",
    "#p-value: p<= 0.05 \n",
    "p_value= shapiro_test[1]\n",
    "print(p_value)"
   ]
  },
  {
   "cell_type": "code",
   "execution_count": 20,
   "metadata": {},
   "outputs": [
    {
     "name": "stdout",
     "output_type": "stream",
     "text": [
      "0.9348748326301575\n",
      "3.370347621967085e-05\n"
     ]
    }
   ],
   "source": [
    "# checking if data is normally distibuted \n",
    "shapiro_test = stats.shapiro(data[\"mean of Intrinsic motivations\"])\n",
    "print(shapiro_test[0])\n",
    "#p-value: p<= 0.05 \n",
    "p_value= shapiro_test[1]\n",
    "print(p_value)"
   ]
  },
  {
   "cell_type": "code",
   "execution_count": 17,
   "metadata": {},
   "outputs": [
    {
     "name": "stdout",
     "output_type": "stream",
     "text": [
      "0.8574048280715942\n",
      "4.86439200031441e-09\n"
     ]
    }
   ],
   "source": [
    "# checking if data is normally distibuted \n",
    "shapiro_test = stats.shapiro(data[\"Frequency Sportapp\"])\n",
    "print(shapiro_test[0])\n",
    "#p-value: p<= 0.05 \n",
    "p_value= shapiro_test[1]\n",
    "print(p_value)"
   ]
  },
  {
   "cell_type": "code",
   "execution_count": 21,
   "metadata": {
    "ExecuteTime": {
     "end_time": "2023-07-26T12:18:40.211646Z",
     "start_time": "2023-07-26T12:18:39.995667200Z"
    },
    "collapsed": false
   },
   "outputs": [
    {
     "data": {
      "image/png": "[encoded data removed]",
      "text/plain": [
       "<Figure size 432x288 with 1 Axes>"
      ]
     },
     "metadata": {
      "needs_background": "light"
     },
     "output_type": "display_data"
    }
   ],
   "source": [
    "data.boxplot(column='mean of Intrinsic motivations', by='Frequency Sportapp')\n",
    "plt.ylim(1, 5)\n",
    "plt.savefig('boxplot.pdf')\n",
    "plt.show()"
   ]
  }
 ],
 "metadata": {
  "kernelspec": {
   "display_name": "base",
   "language": "python",
   "name": "python3"
  },
  "language_info": {
   "codemirror_mode": {
    "name": "ipython",
    "version": 3
   },
   "file_extension": ".py",
   "mimetype": "text/x-python",
   "name": "python",
   "nbconvert_exporter": "python",
   "pygments_lexer": "ipython3",
   "version": "3.8.8"
  },
  "orig_nbformat": 4,
  "vscode": {
   "interpreter": {
    "hash": "40d3a090f54c6569ab1632332b64b2c03c39dcf918b08424e98f38b5ae0af88f"
   }
  }
 },
 "nbformat": 4,
 "nbformat_minor": 2
}
