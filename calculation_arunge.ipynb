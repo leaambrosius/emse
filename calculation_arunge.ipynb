{
 "cells": [
  {
   "attachments": {},
   "cell_type": "markdown",
   "metadata": {
    "collapsed": false
   },
   "source": [
    "### <span style=\"color:#FF884D\"> Imports and data import </span>"
   ]
  },
  {
   "cell_type": "code",
   "execution_count": 50,
   "metadata": {
    "collapsed": true,
    "ExecuteTime": {
     "end_time": "2023-07-10T06:43:57.053931100Z",
     "start_time": "2023-07-10T06:43:55.795817Z"
    }
   },
   "outputs": [
    {
     "data": {
      "text/plain": "     Unnamed: 0    Gender  Age  Sport Frequency  \\\n0             0  Weiblich   22                5   \n1             1  Weiblich   23                3   \n2             2  Weiblich   25                3   \n3             3  Weiblich   18                3   \n4             4  Weiblich   18                1   \n..          ...       ...  ...              ...   \n108         108  Weiblich   65                5   \n109         109  Männlich   54                0   \n110         110  Weiblich   64                3   \n111         111  Männlich   24                3   \n112         112  Weiblich   26                1   \n\n                          Type of Sport Ever used Sportapp  \\\n0     Joggen, Ballsportarten, Schwimmen                 Ja   \n1                 Fitness-Kurse, Tanzen                 Ja   \n2    Joggen, Kraftsport, Ballsportarten                 Ja   \n3            Kraftsport, Ballsportarten                 Ja   \n4       Ballsportarten, Fahrrad fahren                  Ja   \n..                                  ...                ...   \n108                              Walken               Nein   \n109                Schwimmen, Radfahren               Nein   \n110                       Fitness-Kurse                 Ja   \n111                           Badminton                 Ja   \n112       Ballsportarten, Fitness-Kurse                 Ja   \n\n     Frequency Sportapp                                   Reason sportapp   \\\n0                     1  Zum Tracken meiner Leistungen, Um mir Ziele zu...   \n1                     1  Zum Tracken meiner Leistungen, Um das Training...   \n2                     1                      Zum Tracken meiner Leistungen   \n3                     1  Zum Tracken meiner Leistungen, Um einen Sport-...   \n4                     0                      Zum Tracken meiner Leistungen   \n..                  ...                                                ...   \n108                   0                             Benutze keine Sportapp   \n109                   0                             Um mir Ziele zu setzen   \n110                   1  Zum Tracken meiner Leistungen, Um Kurse zu Buc...   \n111                   1  Zum Tracken meiner Leistungen, Um das Training...   \n112                   1  Zum Tracken meiner Leistungen, Um mir Ziele zu...   \n\n    Goals more efficient through sportapp  \\\n0                                      Ja   \n1                                      Ja   \n2                                      Ja   \n3                                      Ja   \n4                                      Ja   \n..                                    ...   \n108                                  Nein   \n109                                  Nein   \n110                                    Ja   \n111                                    Ja   \n112                                    Ja   \n\n    Motivation when comparing to friends  Amotivation  External Regulation  \\\n0                                   Nein         1.25                 2.75   \n1                                     Ja         3.00                 3.00   \n2                                   Nein         1.25                 2.00   \n3                                   Nein         1.50                 2.25   \n4                                   Nein         2.25                 2.00   \n..                                   ...          ...                  ...   \n108                                 Nein         1.00                 1.00   \n109                                 Nein         1.00                 1.50   \n110                                 Nein         1.50                 2.00   \n111                                   Ja         2.50                 2.25   \n112                                 Nein         1.50                 1.00   \n\n     Introjected Regulation  Identified Regulation  Integrated Regulation  \\\n0                      4.00                   3.50                   4.25   \n1                      4.00                   3.75                   3.25   \n2                      4.50                   3.00                   4.25   \n3                      3.25                   3.75                   5.00   \n4                      3.00                   3.00                   3.75   \n..                      ...                    ...                    ...   \n108                    2.00                   1.00                   1.00   \n109                    2.75                   1.50                   1.75   \n110                    4.75                   3.50                   3.50   \n111                    3.75                   3.50                   3.75   \n112                    2.25                   2.75                   2.75   \n\n     Intrinsic Motivation  numSports  compare  track performance  \\\n0                    4.25          2        0                  1   \n1                    3.50          1        1                  1   \n2                    4.25          2        0                  1   \n3                    4.00          1        0                  1   \n4                    2.50          1        0                  1   \n..                    ...        ...      ...                ...   \n108                  1.00          0        0                  0   \n109                  1.75          1        0                  0   \n110                  4.25          0        0                  1   \n111                  4.25          0        1                  1   \n112                  2.25          1        0                  1   \n\n     mean of Intrinsic motivations  \n0                         4.000000  \n1                         3.500000  \n2                         3.833333  \n3                         4.250000  \n4                         3.083333  \n..                             ...  \n108                       1.000000  \n109                       1.666667  \n110                       3.750000  \n111                       3.833333  \n112                       2.583333  \n\n[113 rows x 20 columns]",
      "text/html": "<div>\n<style scoped>\n    .dataframe tbody tr th:only-of-type {\n        vertical-align: middle;\n    }\n\n    .dataframe tbody tr th {\n        vertical-align: top;\n    }\n\n    .dataframe thead th {\n        text-align: right;\n    }\n</style>\n<table border=\"1\" class=\"dataframe\">\n  <thead>\n    <tr style=\"text-align: right;\">\n      <th></th>\n      <th>Unnamed: 0</th>\n      <th>Gender</th>\n      <th>Age</th>\n      <th>Sport Frequency</th>\n      <th>Type of Sport</th>\n      <th>Ever used Sportapp</th>\n      <th>Frequency Sportapp</th>\n      <th>Reason sportapp</th>\n      <th>Goals more efficient through sportapp</th>\n      <th>Motivation when comparing to friends</th>\n      <th>Amotivation</th>\n      <th>External Regulation</th>\n      <th>Introjected Regulation</th>\n      <th>Identified Regulation</th>\n      <th>Integrated Regulation</th>\n      <th>Intrinsic Motivation</th>\n      <th>numSports</th>\n      <th>compare</th>\n      <th>track performance</th>\n      <th>mean of Intrinsic motivations</th>\n    </tr>\n  </thead>\n  <tbody>\n    <tr>\n      <th>0</th>\n      <td>0</td>\n      <td>Weiblich</td>\n      <td>22</td>\n      <td>5</td>\n      <td>Joggen, Ballsportarten, Schwimmen</td>\n      <td>Ja</td>\n      <td>1</td>\n      <td>Zum Tracken meiner Leistungen, Um mir Ziele zu...</td>\n      <td>Ja</td>\n      <td>Nein</td>\n      <td>1.25</td>\n      <td>2.75</td>\n      <td>4.00</td>\n      <td>3.50</td>\n      <td>4.25</td>\n      <td>4.25</td>\n      <td>2</td>\n      <td>0</td>\n      <td>1</td>\n      <td>4.000000</td>\n    </tr>\n    <tr>\n      <th>1</th>\n      <td>1</td>\n      <td>Weiblich</td>\n      <td>23</td>\n      <td>3</td>\n      <td>Fitness-Kurse, Tanzen</td>\n      <td>Ja</td>\n      <td>1</td>\n      <td>Zum Tracken meiner Leistungen, Um das Training...</td>\n      <td>Ja</td>\n      <td>Ja</td>\n      <td>3.00</td>\n      <td>3.00</td>\n      <td>4.00</td>\n      <td>3.75</td>\n      <td>3.25</td>\n      <td>3.50</td>\n      <td>1</td>\n      <td>1</td>\n      <td>1</td>\n      <td>3.500000</td>\n    </tr>\n    <tr>\n      <th>2</th>\n      <td>2</td>\n      <td>Weiblich</td>\n      <td>25</td>\n      <td>3</td>\n      <td>Joggen, Kraftsport, Ballsportarten</td>\n      <td>Ja</td>\n      <td>1</td>\n      <td>Zum Tracken meiner Leistungen</td>\n      <td>Ja</td>\n      <td>Nein</td>\n      <td>1.25</td>\n      <td>2.00</td>\n      <td>4.50</td>\n      <td>3.00</td>\n      <td>4.25</td>\n      <td>4.25</td>\n      <td>2</td>\n      <td>0</td>\n      <td>1</td>\n      <td>3.833333</td>\n    </tr>\n    <tr>\n      <th>3</th>\n      <td>3</td>\n      <td>Weiblich</td>\n      <td>18</td>\n      <td>3</td>\n      <td>Kraftsport, Ballsportarten</td>\n      <td>Ja</td>\n      <td>1</td>\n      <td>Zum Tracken meiner Leistungen, Um einen Sport-...</td>\n      <td>Ja</td>\n      <td>Nein</td>\n      <td>1.50</td>\n      <td>2.25</td>\n      <td>3.25</td>\n      <td>3.75</td>\n      <td>5.00</td>\n      <td>4.00</td>\n      <td>1</td>\n      <td>0</td>\n      <td>1</td>\n      <td>4.250000</td>\n    </tr>\n    <tr>\n      <th>4</th>\n      <td>4</td>\n      <td>Weiblich</td>\n      <td>18</td>\n      <td>1</td>\n      <td>Ballsportarten, Fahrrad fahren</td>\n      <td>Ja</td>\n      <td>0</td>\n      <td>Zum Tracken meiner Leistungen</td>\n      <td>Ja</td>\n      <td>Nein</td>\n      <td>2.25</td>\n      <td>2.00</td>\n      <td>3.00</td>\n      <td>3.00</td>\n      <td>3.75</td>\n      <td>2.50</td>\n      <td>1</td>\n      <td>0</td>\n      <td>1</td>\n      <td>3.083333</td>\n    </tr>\n    <tr>\n      <th>...</th>\n      <td>...</td>\n      <td>...</td>\n      <td>...</td>\n      <td>...</td>\n      <td>...</td>\n      <td>...</td>\n      <td>...</td>\n      <td>...</td>\n      <td>...</td>\n      <td>...</td>\n      <td>...</td>\n      <td>...</td>\n      <td>...</td>\n      <td>...</td>\n      <td>...</td>\n      <td>...</td>\n      <td>...</td>\n      <td>...</td>\n      <td>...</td>\n      <td>...</td>\n    </tr>\n    <tr>\n      <th>108</th>\n      <td>108</td>\n      <td>Weiblich</td>\n      <td>65</td>\n      <td>5</td>\n      <td>Walken</td>\n      <td>Nein</td>\n      <td>0</td>\n      <td>Benutze keine Sportapp</td>\n      <td>Nein</td>\n      <td>Nein</td>\n      <td>1.00</td>\n      <td>1.00</td>\n      <td>2.00</td>\n      <td>1.00</td>\n      <td>1.00</td>\n      <td>1.00</td>\n      <td>0</td>\n      <td>0</td>\n      <td>0</td>\n      <td>1.000000</td>\n    </tr>\n    <tr>\n      <th>109</th>\n      <td>109</td>\n      <td>Männlich</td>\n      <td>54</td>\n      <td>0</td>\n      <td>Schwimmen, Radfahren</td>\n      <td>Nein</td>\n      <td>0</td>\n      <td>Um mir Ziele zu setzen</td>\n      <td>Nein</td>\n      <td>Nein</td>\n      <td>1.00</td>\n      <td>1.50</td>\n      <td>2.75</td>\n      <td>1.50</td>\n      <td>1.75</td>\n      <td>1.75</td>\n      <td>1</td>\n      <td>0</td>\n      <td>0</td>\n      <td>1.666667</td>\n    </tr>\n    <tr>\n      <th>110</th>\n      <td>110</td>\n      <td>Weiblich</td>\n      <td>64</td>\n      <td>3</td>\n      <td>Fitness-Kurse</td>\n      <td>Ja</td>\n      <td>1</td>\n      <td>Zum Tracken meiner Leistungen, Um Kurse zu Buc...</td>\n      <td>Ja</td>\n      <td>Nein</td>\n      <td>1.50</td>\n      <td>2.00</td>\n      <td>4.75</td>\n      <td>3.50</td>\n      <td>3.50</td>\n      <td>4.25</td>\n      <td>0</td>\n      <td>0</td>\n      <td>1</td>\n      <td>3.750000</td>\n    </tr>\n    <tr>\n      <th>111</th>\n      <td>111</td>\n      <td>Männlich</td>\n      <td>24</td>\n      <td>3</td>\n      <td>Badminton</td>\n      <td>Ja</td>\n      <td>1</td>\n      <td>Zum Tracken meiner Leistungen, Um das Training...</td>\n      <td>Ja</td>\n      <td>Ja</td>\n      <td>2.50</td>\n      <td>2.25</td>\n      <td>3.75</td>\n      <td>3.50</td>\n      <td>3.75</td>\n      <td>4.25</td>\n      <td>0</td>\n      <td>1</td>\n      <td>1</td>\n      <td>3.833333</td>\n    </tr>\n    <tr>\n      <th>112</th>\n      <td>112</td>\n      <td>Weiblich</td>\n      <td>26</td>\n      <td>1</td>\n      <td>Ballsportarten, Fitness-Kurse</td>\n      <td>Ja</td>\n      <td>1</td>\n      <td>Zum Tracken meiner Leistungen, Um mir Ziele zu...</td>\n      <td>Ja</td>\n      <td>Nein</td>\n      <td>1.50</td>\n      <td>1.00</td>\n      <td>2.25</td>\n      <td>2.75</td>\n      <td>2.75</td>\n      <td>2.25</td>\n      <td>1</td>\n      <td>0</td>\n      <td>1</td>\n      <td>2.583333</td>\n    </tr>\n  </tbody>\n</table>\n<p>113 rows × 20 columns</p>\n</div>"
     },
     "execution_count": 50,
     "metadata": {},
     "output_type": "execute_result"
    }
   ],
   "source": [
    "# import numpy as np\n",
    "import pandas as pd\n",
    "import statsmodels as sm\n",
    "import pandas as pd\n",
    "import statsmodels.api as sm\n",
    "from matplotlib import pyplot as plt\n",
    "from scipy import stats\n",
    "import scipy.stats as stats\n",
    "import plotly.express as px\n",
    "import numpy as np\n",
    "\n",
    "data = pd.read_csv(\"data.csv\")\n",
    "data\n"
   ]
  },
  {
   "attachments": {},
   "cell_type": "markdown",
   "metadata": {
    "collapsed": false
   },
   "source": [
    "### <span style=\"color:#FF884D\"> Unpaired T-Test </span>\n",
    "### <span>H₀: The Amotivation is equal when people are 25 or younger. </span>"
   ]
  },
  {
   "cell_type": "code",
   "execution_count": 51,
   "metadata": {
    "collapsed": false,
    "ExecuteTime": {
     "end_time": "2023-07-10T06:43:57.055928200Z",
     "start_time": "2023-07-10T06:43:55.948309800Z"
    }
   },
   "outputs": [
    {
     "name": "stdout",
     "output_type": "stream",
     "text": [
      "T-Statistic: 0.6740134484464786\n",
      "P-value: 0.5017039750750504\n"
     ]
    }
   ],
   "source": [
    "# Assuming you have two arrays of amotivation scores for the two groups\n",
    "\n",
    "group1 = data[data['Age'] <= 25]['Amotivation']\n",
    "group2 = data[data['Age'] > 25]['Amotivation']\n",
    "\n",
    "# Perform the t-test\n",
    "t_statistic, p_value = stats.ttest_ind(group1, group2)\n",
    "\n",
    "# Print the results\n",
    "print(\"T-Statistic:\", t_statistic)\n",
    "print(\"P-value:\", p_value)"
   ]
  },
  {
   "attachments": {},
   "cell_type": "markdown",
   "metadata": {
    "collapsed": false
   },
   "source": [
    "### <span style=\"color:#FF884D\"> Mann-Whitneyu-Test </span>\n",
    "### <span>H₀: The Amotivation is equal when people are 25 or younger. </span>"
   ]
  },
  {
   "attachments": {},
   "cell_type": "markdown",
   "metadata": {
    "collapsed": false
   },
   "source": []
  },
  {
   "cell_type": "code",
   "execution_count": 52,
   "metadata": {
    "collapsed": false,
    "ExecuteTime": {
     "end_time": "2023-07-10T06:43:57.056923200Z",
     "start_time": "2023-07-10T06:43:55.978661100Z"
    }
   },
   "outputs": [
    {
     "name": "stdout",
     "output_type": "stream",
     "text": [
      "Mann-Whitney U statistic: 1670.5\n",
      "P-value: 0.32077514717865874\n"
     ]
    }
   ],
   "source": [
    "# Perform the Mann-Whitney U test\n",
    "statistic, p_value = stats.mannwhitneyu(group1, group2)\n",
    "\n",
    "# Print the results\n",
    "print(\"Mann-Whitney U statistic:\", statistic)\n",
    "print(\"P-value:\", p_value)"
   ]
  },
  {
   "cell_type": "code",
   "execution_count": 53,
   "metadata": {
    "ExecuteTime": {
     "end_time": "2023-07-10T06:43:57.058919800Z",
     "start_time": "2023-07-10T06:43:56.000254700Z"
    }
   },
   "outputs": [],
   "source": [
    "# cohens d to calculate effect size \n",
    "def cohens_d(group1,group2):\n",
    "    mean_diff = np.mean(group1) - np.mean(group2)\n",
    "    pooled_std = np.sqrt((np.std(group1,ddof=1)**2+np.std(group2,ddof=1)**2)/2)\n",
    "    effect_size= mean_diff/pooled_std\n",
    "    return effect_size"
   ]
  },
  {
   "attachments": {},
   "cell_type": "markdown",
   "metadata": {
    "collapsed": false
   },
   "source": [
    "### <span style=\"color:#FF884D\"> Mann-Whitneyu-Test </span>\n",
    "### <span>H₀: The Intrinsic Motivation is similar when people are doing Sports more than 2 times a week. </span>"
   ]
  },
  {
   "cell_type": "code",
   "execution_count": 54,
   "metadata": {
    "collapsed": false,
    "ExecuteTime": {
     "end_time": "2023-07-10T06:43:57.059917Z",
     "start_time": "2023-07-10T06:43:56.006992Z"
    }
   },
   "outputs": [
    {
     "name": "stdout",
     "output_type": "stream",
     "text": [
      "Mann-Whitney U statistic: 1983.0\n",
      "P-value: 0.0010722548671885884\n",
      "0.7329638036122883\n"
     ]
    }
   ],
   "source": [
    "\n",
    "# Separate the data into two groups based on sports frequency\n",
    "group1 = data[data['Sport Frequency'] >= 3]['Intrinsic Motivation']\n",
    "group2 = data[data['Sport Frequency'] < 3]['Intrinsic Motivation']\n",
    "\n",
    "# Perform the Mann-Whitney U test\n",
    "statistic, p_value = stats.mannwhitneyu(group1, group2, alternative='two-sided')\n",
    "\n",
    "# Print the results\n",
    "print(\"Mann-Whitney U statistic:\", statistic)\n",
    "print(\"P-value:\", p_value)\n",
    "# Calculate the effect size\n",
    "\n",
    "print(cohens_d(group1, group2))"
   ]
  },
  {
   "cell_type": "code",
   "execution_count": 55,
   "metadata": {
    "collapsed": false,
    "ExecuteTime": {
     "end_time": "2023-07-10T06:43:57.061911600Z",
     "start_time": "2023-07-10T06:43:56.059582900Z"
    }
   },
   "outputs": [
    {
     "name": "stdout",
     "output_type": "stream",
     "text": [
      "Mann-Whitney U statistic: 2209.5\n",
      "P-value: 3.652528566478053e-06\n",
      "0.9415118939528011\n"
     ]
    }
   ],
   "source": [
    "\n",
    "# Separate the data into two groups based on sports frequency\n",
    "group1 = data[data['Sport Frequency'] >= 3]['mean of Intrinsic motivations']\n",
    "group2 = data[data['Sport Frequency'] < 3]['mean of Intrinsic motivations']\n",
    "\n",
    "# Perform the Mann-Whitney U test\n",
    "statistic, p_value = stats.mannwhitneyu(group1, group2, alternative='two-sided')\n",
    "\n",
    "# Print the results\n",
    "print(\"Mann-Whitney U statistic:\", statistic)\n",
    "print(\"P-value:\", p_value)\n",
    "# Calculate the effect size\n",
    "\n",
    "print(cohens_d(group1, group2))\n"
   ]
  },
  {
   "attachments": {},
   "cell_type": "markdown",
   "metadata": {
    "collapsed": false
   },
   "source": [
    "### <span style=\"color:#FF884D\"> Wilcoxon signed-rank test</span>\n",
    "### <span>H₀: The Intrinsic Motivation is diffrent when people are doing Sports more than 3 times a week. </span>"
   ]
  },
  {
   "cell_type": "code",
   "execution_count": 56,
   "metadata": {
    "collapsed": false,
    "ExecuteTime": {
     "end_time": "2023-07-10T06:43:57.063921Z",
     "start_time": "2023-07-10T06:43:56.068175900Z"
    }
   },
   "outputs": [
    {
     "name": "stdout",
     "output_type": "stream",
     "text": [
      "Wilcoxon signed-rank statistic: 376.5\n",
      "P-value: 3.7262450345598525e-07\n"
     ]
    }
   ],
   "source": [
    "# Select the intrinsic motivation scores for people doing sports 3 or more times a week\n",
    "group = data[data['Sport Frequency'] >= 3]['Intrinsic Motivation']\n",
    "expected_median = np.median( data[data['Sport Frequency'] < 3]['Intrinsic Motivation'])\n",
    "# Perform the Wilcoxon signed-rank test\n",
    "statistic, p_value = stats.wilcoxon(group - expected_median)\n",
    "\n",
    "# Print the results\n",
    "print(\"Wilcoxon signed-rank statistic:\", statistic)\n",
    "print(\"P-value:\", p_value)\n"
   ]
  },
  {
   "attachments": {},
   "cell_type": "markdown",
   "metadata": {
    "collapsed": false
   },
   "source": [
    "### <span style=\"color:#FF884D\"> Mann-Whitneyu-Test </span>\n",
    "### <span> H₀: There is no difference in intrinsic motivation between people who have used a sport app and people who have never used a sport app. </span>"
   ]
  },
  {
   "attachments": {},
   "cell_type": "markdown",
   "metadata": {
    "collapsed": false
   },
   "source": []
  },
  {
   "cell_type": "code",
   "execution_count": 57,
   "metadata": {
    "collapsed": false,
    "ExecuteTime": {
     "end_time": "2023-07-10T06:43:57.064903400Z",
     "start_time": "2023-07-10T06:43:56.106396800Z"
    }
   },
   "outputs": [
    {
     "name": "stdout",
     "output_type": "stream",
     "text": [
      "Mann-Whitney U statistic: 1168.0\n",
      "P-value: 0.004721430180981148\n",
      "0.7810888732519067\n"
     ]
    }
   ],
   "source": [
    "# Separate the data into two groups based on sport app usage\n",
    "group1 = data[data['Ever used Sportapp'] == 'Ja']['mean of Intrinsic motivations']\n",
    "group2 = data[data['Ever used Sportapp'] == 'Nein']['mean of Intrinsic motivations']\n",
    "\n",
    "# Perform the Mann-Whitney U test\n",
    "statistic, p_value = stats.mannwhitneyu(group1, group2, alternative='two-sided')\n",
    "\n",
    "# Print the results\n",
    "print(\"Mann-Whitney U statistic:\", statistic)\n",
    "print(\"P-value:\", p_value)\n",
    "# Calculate the effect size\n",
    "\n",
    "print(cohens_d(group1, group2))\n"
   ]
  },
  {
   "cell_type": "code",
   "execution_count": 58,
   "outputs": [
    {
     "name": "stdout",
     "output_type": "stream",
     "text": [
      "Mann-Whitney U statistic: 818.0\n",
      "P-value: 0.9902197397416197\n",
      "-0.013534300394674945\n"
     ]
    }
   ],
   "source": [
    "# Separate the data into two groups based on sport app usage\n",
    "group1 = data[data['Ever used Sportapp'] == 'Ja']['Amotivation']\n",
    "group2 = data[data['Ever used Sportapp'] == 'Nein']['Amotivation']\n",
    "\n",
    "# Perform the Mann-Whitney U test\n",
    "statistic, p_value = stats.mannwhitneyu(group1, group2, alternative='two-sided')\n",
    "\n",
    "# Print the results\n",
    "print(\"Mann-Whitney U statistic:\", statistic)\n",
    "print(\"P-value:\", p_value)\n",
    "# Calculate the effect size\n",
    "\n",
    "print(cohens_d(group1, group2))\n"
   ],
   "metadata": {
    "collapsed": false,
    "ExecuteTime": {
     "end_time": "2023-07-10T06:43:57.075874400Z",
     "start_time": "2023-07-10T06:43:56.116737500Z"
    }
   }
  },
  {
   "cell_type": "code",
   "execution_count": 59,
   "outputs": [
    {
     "name": "stdout",
     "output_type": "stream",
     "text": [
      "Mann-Whitney U statistic: 1046.0\n",
      "P-value: 0.0637263895287237\n",
      "0.4882126876956859\n"
     ]
    }
   ],
   "source": [
    "# Separate the data into two groups based on sport app usage\n",
    "group1 = data[data['Ever used Sportapp'] == 'Ja']['Introjected Regulation']\n",
    "group2 = data[data['Ever used Sportapp'] == 'Nein']['Introjected Regulation']\n",
    "\n",
    "# Perform the Mann-Whitney U test\n",
    "statistic, p_value = stats.mannwhitneyu(group1, group2, alternative='two-sided')\n",
    "\n",
    "# Print the results\n",
    "print(\"Mann-Whitney U statistic:\", statistic)\n",
    "print(\"P-value:\", p_value)\n",
    "# Calculate the effect size\n",
    "\n",
    "print(cohens_d(group1, group2))\n"
   ],
   "metadata": {
    "collapsed": false,
    "ExecuteTime": {
     "end_time": "2023-07-10T06:43:57.076870900Z",
     "start_time": "2023-07-10T06:43:56.134699900Z"
    }
   }
  },
  {
   "cell_type": "code",
   "execution_count": 60,
   "outputs": [
    {
     "name": "stdout",
     "output_type": "stream",
     "text": [
      "Mann-Whitney U statistic: 965.5\n",
      "P-value: 0.2284553016991725\n",
      "0.30360307899618216\n"
     ]
    }
   ],
   "source": [
    "# Separate the data into two groups based on sport app usage\n",
    "group1 = data[data['Ever used Sportapp'] == 'Ja']['External Regulation']\n",
    "group2 = data[data['Ever used Sportapp'] == 'Nein']['External Regulation']\n",
    "\n",
    "# Perform the Mann-Whitney U test\n",
    "statistic, p_value = stats.mannwhitneyu(group1, group2, alternative='two-sided')\n",
    "\n",
    "# Print the results\n",
    "print(\"Mann-Whitney U statistic:\", statistic)\n",
    "print(\"P-value:\", p_value)\n",
    "# Calculate the effect size\n",
    "\n",
    "print(cohens_d(group1, group2))\n"
   ],
   "metadata": {
    "collapsed": false,
    "ExecuteTime": {
     "end_time": "2023-07-10T06:43:57.076870900Z",
     "start_time": "2023-07-10T06:43:56.144486200Z"
    }
   }
  },
  {
   "attachments": {},
   "cell_type": "markdown",
   "metadata": {
    "collapsed": false
   },
   "source": [
    "### <span style=\"color:#FF884D\"> Spearman Rank Correlation </span>\n",
    "### <span> H₀: There is no difference in intrinsic motivation among the groups based on the frequency of using the sports app.</span>"
   ]
  },
  {
   "cell_type": "markdown",
   "source": [
    "### <span style=\"color:#FF884D\"> ++++ TODO::: independent var as ordinal scale and not categorical -> lin regression, spearman rank correlation </span>"
   ],
   "metadata": {
    "collapsed": false
   }
  },
  {
   "cell_type": "code",
   "execution_count": 61,
   "metadata": {
    "collapsed": false,
    "ExecuteTime": {
     "end_time": "2023-07-10T06:43:57.077867600Z",
     "start_time": "2023-07-10T06:43:56.161088600Z"
    }
   },
   "outputs": [
    {
     "name": "stdout",
     "output_type": "stream",
     "text": [
      "F-Statistic: 0.0848159579337826\n",
      "P-value: 0.3717542488526395\n"
     ]
    }
   ],
   "source": [
    "# independent var as ordinal scale and not categorical -> lin regression, spearman rank correlation\n",
    "\n",
    "# Create separate groups based on app usage frequency\n",
    "group1 = data[data['Frequency Sportapp'] == 0]['Intrinsic Motivation']\n",
    "group2 = data[data['Frequency Sportapp'] == 1]['Intrinsic Motivation']\n",
    "group3 = data[data['Frequency Sportapp'] == 2]['Intrinsic Motivation']\n",
    "group4 = data[data['Frequency Sportapp'] == 3]['Intrinsic Motivation']\n",
    "\n",
    "# Perform one-way spearman rank correlation\n",
    "f_statistic, p_value = stats.spearmanr(data['Frequency Sportapp'], data['Intrinsic Motivation'])\n",
    "\n",
    "# Print the results\n",
    "print(\"F-Statistic:\", f_statistic)\n",
    "print(\"P-value:\", p_value)\n"
   ]
  },
  {
   "attachments": {},
   "cell_type": "markdown",
   "metadata": {
    "collapsed": false
   },
   "source": [
    "### <span style=\"color:#FF884D\"> ANOVA-Test </span>\n",
    "### <span> H₀: There is no difference in intrinsic motivation among the groups based on the frequency of using the sports app.</span>"
   ]
  },
  {
   "cell_type": "code",
   "execution_count": 62,
   "metadata": {
    "collapsed": false,
    "ExecuteTime": {
     "end_time": "2023-07-10T06:43:57.077867600Z",
     "start_time": "2023-07-10T06:43:56.176154200Z"
    }
   },
   "outputs": [
    {
     "name": "stdout",
     "output_type": "stream",
     "text": [
      "F-Statistic: 3.4334440871797516\n",
      "P-value: 0.06654489063898988\n"
     ]
    }
   ],
   "source": [
    "# Create separate groups based on app usage frequency\n",
    "group1 = data[data['Frequency Sportapp'] == 0]['Intrinsic Motivation']\n",
    "group2 = data[data['Frequency Sportapp'] != 0]['Intrinsic Motivation']\n",
    "\n",
    "\n",
    "# Perform one-way ANOVA\n",
    "f_statistic, p_value = stats.f_oneway(group1, group2)\n",
    "\n",
    "# Print the results\n",
    "print(\"F-Statistic:\", f_statistic)\n",
    "print(\"P-value:\", p_value)\n"
   ]
  },
  {
   "cell_type": "code",
   "execution_count": 63,
   "outputs": [
    {
     "name": "stdout",
     "output_type": "stream",
     "text": [
      "                                  OLS Regression Results                                 \n",
      "=========================================================================================\n",
      "Dep. Variable:     mean of Intrinsic motivations   R-squared:                       0.021\n",
      "Model:                                       OLS   Adj. R-squared:                  0.013\n",
      "Method:                            Least Squares   F-statistic:                     2.426\n",
      "Date:                           Mon, 10 Jul 2023   Prob (F-statistic):              0.122\n",
      "Time:                                   08:43:56   Log-Likelihood:                -140.26\n",
      "No. Observations:                            113   AIC:                             284.5\n",
      "Df Residuals:                                111   BIC:                             290.0\n",
      "Df Model:                                      1                                         \n",
      "Covariance Type:                       nonrobust                                         \n",
      "======================================================================================\n",
      "                         coef    std err          t      P>|t|      [0.025      0.975]\n",
      "--------------------------------------------------------------------------------------\n",
      "const                  3.2487      0.143     22.678      0.000       2.965       3.533\n",
      "Frequency Sportapp     0.1418      0.091      1.558      0.122      -0.039       0.322\n",
      "==============================================================================\n",
      "Omnibus:                       11.027   Durbin-Watson:                   1.745\n",
      "Prob(Omnibus):                  0.004   Jarque-Bera (JB):               11.845\n",
      "Skew:                          -0.791   Prob(JB):                      0.00268\n",
      "Kurtosis:                       3.108   Cond. No.                         3.71\n",
      "==============================================================================\n",
      "\n",
      "Notes:\n",
      "[1] Standard Errors assume that the covariance matrix of the errors is correctly specified.\n"
     ]
    },
    {
     "data": {
      "text/plain": "<Figure size 640x480 with 1 Axes>",
      "image/png": "[encoded data removed]"
     },
     "metadata": {},
     "output_type": "display_data"
    }
   ],
   "source": [
    "y = data['mean of Intrinsic motivations']\n",
    "X = data['Frequency Sportapp']\n",
    "X = sm.add_constant(X)\n",
    "model = sm.OLS(y, X).fit()\n",
    "print(model.summary())\n",
    "# Plot the data points\n",
    "# Plot the data points\n",
    "plt.scatter(X.iloc[:, 1], y, color='blue', label='Data Points')\n",
    "\n",
    "# Plot the regression line\n",
    "plt.plot(X.iloc[:, 1], model.predict(X), color='red', label='Regression Line')\n",
    "\n",
    "# Add labels and title to the plot\n",
    "plt.xlabel('Frequency of App Usage')\n",
    "plt.ylabel('Intrinsic Motivation')\n",
    "plt.title('Linear Regression')\n",
    "\n",
    "# Add legend\n",
    "plt.legend()\n",
    "\n",
    "# Display the plot\n",
    "plt.show()"
   ],
   "metadata": {
    "collapsed": false,
    "ExecuteTime": {
     "end_time": "2023-07-10T06:43:57.556484400Z",
     "start_time": "2023-07-10T06:43:56.189266300Z"
    }
   }
  },
  {
   "attachments": {},
   "cell_type": "markdown",
   "metadata": {
    "collapsed": false
   },
   "source": [
    "### <span style=\"color:#FF884D\"> Mann-Whitneyu-Test </span>\n",
    "### <span> H₀: There is no difference in intrinsic motivation among the people who use a Sport-App regulary and not.</span>"
   ]
  },
  {
   "cell_type": "code",
   "execution_count": 64,
   "metadata": {
    "collapsed": false,
    "ExecuteTime": {
     "end_time": "2023-07-10T06:43:57.557484700Z",
     "start_time": "2023-07-10T06:43:57.105514100Z"
    }
   },
   "outputs": [
    {
     "name": "stdout",
     "output_type": "stream",
     "text": [
      "Mann-Whitney U statistic: 683.5\n",
      "P-value: 0.17803262853756852\n"
     ]
    }
   ],
   "source": [
    "# Separate the data into two groups based on sport app usage\n",
    "group1 = data[data['Frequency Sportapp'] == 0]['Intrinsic Motivation']\n",
    "group2 = data[data['Frequency Sportapp'] != 0]['Intrinsic Motivation']\n",
    "\n",
    "# Perform the Mann-Whitney U test\n",
    "statistic, p_value = stats.mannwhitneyu(group1, group2, alternative='two-sided')\n",
    "\n",
    "# Print the results\n",
    "print(\"Mann-Whitney U statistic:\", statistic)\n",
    "print(\"P-value:\", p_value)\n"
   ]
  },
  {
   "attachments": {},
   "cell_type": "markdown",
   "metadata": {
    "collapsed": false
   },
   "source": [
    "### <span style=\"color:#FF884D\"> Mann-Whitneyu-Test </span>\n",
    "### <span> H₀: There is no difference in intrinsic motivation among the people who use a Sport-App regulary and not.</span>"
   ]
  },
  {
   "cell_type": "code",
   "execution_count": 65,
   "metadata": {
    "collapsed": false,
    "ExecuteTime": {
     "end_time": "2023-07-10T06:43:57.569449700Z",
     "start_time": "2023-07-10T06:43:57.130215300Z"
    }
   },
   "outputs": [
    {
     "name": "stdout",
     "output_type": "stream",
     "text": [
      "Mann-Whitney U statistic: 1489.0\n",
      "P-value: 0.8634583429804221\n"
     ]
    }
   ],
   "source": [
    "# Separate the data into two groups based on sport app usage\n",
    "group1 = data[data['Frequency Sportapp'] <2]['Integrated Regulation']\n",
    "group2 = data[data['Frequency Sportapp'] >=2 ]['Integrated Regulation']\n",
    "\n",
    "# Perform the Mann-Whitney U test\n",
    "statistic, p_value = stats.mannwhitneyu(group1, group2, alternative='two-sided')\n",
    "\n",
    "# Print the results\n",
    "print(\"Mann-Whitney U statistic:\", statistic)\n",
    "print(\"P-value:\", p_value)"
   ]
  },
  {
   "cell_type": "code",
   "execution_count": 66,
   "metadata": {
    "collapsed": false,
    "ExecuteTime": {
     "end_time": "2023-07-10T06:43:57.628804100Z",
     "start_time": "2023-07-10T06:43:57.147328900Z"
    }
   },
   "outputs": [
    {
     "name": "stdout",
     "output_type": "stream",
     "text": [
      "Mann-Whitney U statistic: 737.5\n",
      "P-value: 0.4314080926823797\n"
     ]
    }
   ],
   "source": [
    "\n",
    "# Separate the data into two groups based on sport app usage\n",
    "group1 = data[data['Frequency Sportapp'] == 3]['Integrated Regulation']\n",
    "group2 = data[data['Frequency Sportapp'] != 3]['Integrated Regulation']\n",
    "\n",
    "# Perform the Mann-Whitney U test\n",
    "statistic, p_value = stats.mannwhitneyu(group1, group2, alternative='two-sided')\n",
    "\n",
    "# Print the results\n",
    "print(\"Mann-Whitney U statistic:\", statistic)\n",
    "print(\"P-value:\", p_value)\n"
   ]
  },
  {
   "attachments": {},
   "cell_type": "markdown",
   "metadata": {
    "collapsed": false
   },
   "source": [
    "### <span style=\"color:#FF884D\"> Spearmanr-Test </span>\n",
    "### <span> H₀: There is no monotonic relationship between the frequency of using the sports app and intrinsic motivation.</span>"
   ]
  },
  {
   "cell_type": "code",
   "execution_count": 67,
   "metadata": {
    "collapsed": false,
    "ExecuteTime": {
     "end_time": "2023-07-10T06:43:57.652740500Z",
     "start_time": "2023-07-10T06:43:57.177102900Z"
    }
   },
   "outputs": [
    {
     "name": "stdout",
     "output_type": "stream",
     "text": [
      "Spearman's correlation coefficient: 0.17669476357538946\n",
      "P-value: 0.061183637248595206\n"
     ]
    }
   ],
   "source": [
    "# Extract the relevant columns for app usage frequency and intrinsic motivation\n",
    "app_usage = data['Frequency Sportapp']\n",
    "identified_motivation = data['Identified Regulation']\n",
    "\n",
    "# Perform Spearman's rank correlation test\n",
    "correlation, p_value = stats.spearmanr(app_usage, identified_motivation)\n",
    "\n",
    "# Print the results\n",
    "print(\"Spearman's correlation coefficient:\", correlation)\n",
    "print(\"P-value:\", p_value)\n"
   ]
  },
  {
   "attachments": {},
   "cell_type": "markdown",
   "metadata": {
    "collapsed": false
   },
   "source": [
    "### <span style=\"color:#FF884D\"> Mann-Whitneyu-Test RUMGESPIELT</span>\n",
    "### <span> H₀: There is no difference in intrinsic motivation among the people who use a Sport-App regulary and not.</span>"
   ]
  },
  {
   "cell_type": "code",
   "execution_count": 68,
   "metadata": {
    "collapsed": false,
    "ExecuteTime": {
     "end_time": "2023-07-10T06:43:57.652740500Z",
     "start_time": "2023-07-10T06:43:57.190205Z"
    }
   },
   "outputs": [
    {
     "name": "stdout",
     "output_type": "stream",
     "text": [
      "Mann-Whitney U statistic: 399.0\n",
      "P-value: 0.3638894388419841\n"
     ]
    }
   ],
   "source": [
    "# Separate the data into two groups based on sport app usage\n",
    "\n",
    "group1 = data[(data['Frequency Sportapp'] == 0)|(data['Frequency Sportapp'] == 1)]['Intrinsic Motivation']\n",
    "group2 = data[data['Frequency Sportapp'] == 3]['Intrinsic Motivation']\n",
    "\n",
    "# Perform the Mann-Whitney U test\n",
    "statistic, p_value = stats.mannwhitneyu(group1, group2, alternative='two-sided')\n",
    "\n",
    "# Print the results\n",
    "print(\"Mann-Whitney U statistic:\", statistic)\n",
    "print(\"P-value:\", p_value)"
   ]
  },
  {
   "attachments": {},
   "cell_type": "markdown",
   "metadata": {
    "collapsed": false
   },
   "source": [
    "### <span style=\"color:#FF884D\"> Mann-Whitneyu-Test  RUMGESPIELT</span>\n",
    "### <span> H₀: There is no difference in intrinsic motivation among the people who use a Sport-App regulary and not.</span>"
   ]
  },
  {
   "cell_type": "code",
   "execution_count": 69,
   "metadata": {
    "collapsed": false,
    "ExecuteTime": {
     "end_time": "2023-07-10T06:43:57.653738400Z",
     "start_time": "2023-07-10T06:43:57.208090600Z"
    }
   },
   "outputs": [
    {
     "name": "stdout",
     "output_type": "stream",
     "text": [
      "Mann-Whitney U statistic: 546.5\n",
      "P-value: 0.015577753558941941\n",
      "-0.6041940994932872\n"
     ]
    }
   ],
   "source": [
    "# Separate the data into two groups based on sport app usage\n",
    "\n",
    "group1 = data[data['Frequency Sportapp'] <= 0]['mean of Intrinsic motivations']\n",
    "group2 = data[data['Frequency Sportapp'] > 0]['mean of Intrinsic motivations']\n",
    "# Perform the Mann-Whitney U test\n",
    "statistic, p_value = stats.mannwhitneyu(group1, group2, alternative='two-sided')\n",
    "\n",
    "# Print the results\n",
    "print(\"Mann-Whitney U statistic:\", statistic)\n",
    "print(\"P-value:\", p_value)\n",
    "print(cohens_d(group1, group2))"
   ]
  },
  {
   "cell_type": "code",
   "execution_count": 70,
   "outputs": [
    {
     "name": "stdout",
     "output_type": "stream",
     "text": [
      "Mann-Whitney U statistic: 686.5\n",
      "P-value: 0.1846442192121025\n",
      "-0.45707568786647296\n"
     ]
    }
   ],
   "source": [
    "# Separate the data into two groups based on sport app usage\n",
    "\n",
    "group1 = data[data['Frequency Sportapp'] <= 0]['External Regulation']\n",
    "group2 = data[data['Frequency Sportapp'] > 0]['External Regulation']\n",
    "# Perform the Mann-Whitney U test\n",
    "statistic, p_value = stats.mannwhitneyu(group1, group2, alternative='two-sided')\n",
    "\n",
    "# Print the results\n",
    "print(\"Mann-Whitney U statistic:\", statistic)\n",
    "print(\"P-value:\", p_value)\n",
    "print(cohens_d(group1, group2))"
   ],
   "metadata": {
    "collapsed": false,
    "ExecuteTime": {
     "end_time": "2023-07-10T06:43:57.654735500Z",
     "start_time": "2023-07-10T06:43:57.233283500Z"
    }
   }
  },
  {
   "cell_type": "code",
   "execution_count": null,
   "outputs": [],
   "source": [],
   "metadata": {
    "collapsed": false
   }
  },
  {
   "cell_type": "code",
   "execution_count": 88,
   "outputs": [
    {
     "name": "stdout",
     "output_type": "stream",
     "text": [
      "Mann-Whitney U statistic: 809.0\n",
      "P-value: 0.7164195377292899\n",
      "-0.1732842977165066\n"
     ]
    }
   ],
   "source": [
    "# Separate the data into two groups based on sport app usage\n",
    "\n",
    "group1 = data[data['Frequency Sportapp'] <= 0]['Amotivation']\n",
    "group2 = data[data['Frequency Sportapp'] > 0]['Amotivation']\n",
    "# Perform the Mann-Whitney U test\n",
    "statistic, p_value = stats.mannwhitneyu(group1, group2, alternative='two-sided')\n",
    "\n",
    "# Print the results\n",
    "print(\"Mann-Whitney U statistic:\", statistic)\n",
    "print(\"P-value:\", p_value)\n",
    "print(cohens_d(group1, group2))"
   ],
   "metadata": {
    "collapsed": false,
    "ExecuteTime": {
     "end_time": "2023-07-10T06:45:23.132774Z",
     "start_time": "2023-07-10T06:45:23.113265900Z"
    }
   }
  },
  {
   "attachments": {},
   "cell_type": "markdown",
   "metadata": {
    "collapsed": false
   },
   "source": [
    "### <span style=\"color:#FF884D\"> Mann-Whitneyu-Test </span>\n",
    "### <span> H₀: There is no difference in Introjected Regulation among the people who use a Sport-App regulary and not.</span>"
   ]
  },
  {
   "cell_type": "code",
   "execution_count": 71,
   "metadata": {
    "collapsed": false,
    "ExecuteTime": {
     "end_time": "2023-07-10T06:43:57.654735500Z",
     "start_time": "2023-07-10T06:43:57.248152500Z"
    }
   },
   "outputs": [
    {
     "name": "stdout",
     "output_type": "stream",
     "text": [
      "Mann-Whitney U statistic: 1311.5\n",
      "P-value: 0.3713870939042574\n"
     ]
    }
   ],
   "source": [
    "# Separate the data into two groups based on sport app usage\n",
    "group1 = data[data['Frequency Sportapp'] <2]['Introjected Regulation']\n",
    "group2 = data[data['Frequency Sportapp'] >=2 ]['Introjected Regulation']\n",
    "# Perform the Mann-Whitney U test\n",
    "statistic, p_value = stats.mannwhitneyu(group1, group2, alternative='two-sided')\n",
    "\n",
    "# Print the results\n",
    "print(\"Mann-Whitney U statistic:\", statistic)\n",
    "print(\"P-value:\", p_value)\n",
    "# Calculate the effect size"
   ]
  },
  {
   "cell_type": "code",
   "execution_count": 72,
   "metadata": {
    "collapsed": false,
    "ExecuteTime": {
     "end_time": "2023-07-10T06:43:57.654735500Z",
     "start_time": "2023-07-10T06:43:57.266475Z"
    }
   },
   "outputs": [
    {
     "name": "stdout",
     "output_type": "stream",
     "text": [
      "Mann-Whitney U statistic: 1442.5\n",
      "P-value: 0.9186298752701794\n",
      "-0.04778409191852534\n"
     ]
    }
   ],
   "source": [
    "# Separate the data into two groups based on sport app usage\n",
    "group1 = data[data['Frequency Sportapp'] <2 ]['mean of Intrinsic motivations']\n",
    "group2 = data[data['Frequency Sportapp'] >=2]['mean of Intrinsic motivations']\n",
    "# Perform the Mann-Whitney U test\n",
    "statistic, p_value = stats.mannwhitneyu(group1, group2, alternative='two-sided')\n",
    "\n",
    "# Print the results\n",
    "print(\"Mann-Whitney U statistic:\", statistic)\n",
    "print(\"P-value:\", p_value)\n",
    "print(cohens_d(group1, group2))\n",
    "# Calculate the effect size"
   ]
  },
  {
   "attachments": {},
   "cell_type": "markdown",
   "metadata": {
    "collapsed": false
   },
   "source": [
    "### <span style=\"color:#FF884D\"> Mann-Whitneyu-Test </span>\n",
    "### <span> H₀: There is no difference in identified regulation among the people who use a Sport-App regulary and not.</span>"
   ]
  },
  {
   "cell_type": "code",
   "execution_count": 73,
   "metadata": {
    "collapsed": false,
    "ExecuteTime": {
     "end_time": "2023-07-10T06:43:57.654735500Z",
     "start_time": "2023-07-10T06:43:57.287996200Z"
    }
   },
   "outputs": [
    {
     "name": "stdout",
     "output_type": "stream",
     "text": [
      "Mann-Whitney U statistic: 436.5\n",
      "P-value: 0.0009546856989034111\n",
      "-0.898169531749665\n"
     ]
    }
   ],
   "source": [
    "# Separate the data into two groups based on sport app usage\n",
    "group1 = data[data['Frequency Sportapp'] == 0]['Identified Regulation']\n",
    "group2 = data[data['Frequency Sportapp'] != 0]['Identified Regulation']\n",
    "# Perform the Mann-Whitney U test\n",
    "statistic, p_value = stats.mannwhitneyu(group1, group2, alternative='two-sided')\n",
    "\n",
    "# Print the results\n",
    "print(\"Mann-Whitney U statistic:\", statistic)\n",
    "print(\"P-value:\", p_value)\n",
    "print(cohens_d(group1, group2))\n",
    "# Calculate the effect size"
   ]
  },
  {
   "attachments": {},
   "cell_type": "markdown",
   "metadata": {
    "collapsed": false
   },
   "source": [
    "### <span style=\"color:#FF884D\"> Mann-Whitneyu-Test </span>\n",
    "### <span> H₀: There is no difference in intrinsic motivation among the people who use a Sport-App regulary and not.</span>"
   ]
  },
  {
   "cell_type": "code",
   "execution_count": 74,
   "metadata": {
    "collapsed": false,
    "ExecuteTime": {
     "end_time": "2023-07-10T06:43:57.655734100Z",
     "start_time": "2023-07-10T06:43:57.305967Z"
    }
   },
   "outputs": [
    {
     "name": "stdout",
     "output_type": "stream",
     "text": [
      "Mann-Whitney U statistic: 683.5\n",
      "P-value: 0.17803262853756852\n"
     ]
    }
   ],
   "source": [
    "# Separate the data into two groups based on sport app usage\n",
    "group1 = data[data['Frequency Sportapp'] == 0]['Intrinsic Motivation']\n",
    "group2 = data[data['Frequency Sportapp'] != 0]['Intrinsic Motivation']\n",
    "# Perform the Mann-Whitney U test\n",
    "statistic, p_value = stats.mannwhitneyu(group1, group2, alternative='two-sided')\n",
    "\n",
    "# Print the results\n",
    "print(\"Mann-Whitney U statistic:\", statistic)\n",
    "print(\"P-value:\", p_value)"
   ]
  },
  {
   "attachments": {},
   "cell_type": "markdown",
   "metadata": {
    "collapsed": false
   },
   "source": [
    "### <span style=\"color:#FF884D\"> Calculate Mean</span>"
   ]
  },
  {
   "cell_type": "code",
   "execution_count": 75,
   "metadata": {
    "collapsed": false,
    "ExecuteTime": {
     "end_time": "2023-07-10T06:43:57.655734100Z",
     "start_time": "2023-07-10T06:43:57.317261Z"
    }
   },
   "outputs": [
    {
     "data": {
      "text/plain": "   Mean_0_Frequency  Mean_1_Frequency\n0          2.990741          3.518421",
      "text/html": "<div>\n<style scoped>\n    .dataframe tbody tr th:only-of-type {\n        vertical-align: middle;\n    }\n\n    .dataframe tbody tr th {\n        vertical-align: top;\n    }\n\n    .dataframe thead th {\n        text-align: right;\n    }\n</style>\n<table border=\"1\" class=\"dataframe\">\n  <thead>\n    <tr style=\"text-align: right;\">\n      <th></th>\n      <th>Mean_0_Frequency</th>\n      <th>Mean_1_Frequency</th>\n    </tr>\n  </thead>\n  <tbody>\n    <tr>\n      <th>0</th>\n      <td>2.990741</td>\n      <td>3.518421</td>\n    </tr>\n  </tbody>\n</table>\n</div>"
     },
     "execution_count": 75,
     "metadata": {},
     "output_type": "execute_result"
    }
   ],
   "source": [
    "mean_intrinsic_0 = data[data['Frequency Sportapp'] == 0][[\"Intrinsic Motivation\", \"Identified Regulation\",\"Integrated Regulation\"]].mean()\n",
    "mean_intrinsic_1 = data[data['Frequency Sportapp'] != 0][[\"Intrinsic Motivation\", \"Identified Regulation\",\"Integrated Regulation\"]].mean()\n",
    "\n",
    "#mean_intrinsic = data[[\"Intrinsic Motivation\", \"Identified Regulation\",\"Integrated Regulation\"]].mean()\n",
    "mean_all_1 = np.mean(mean_intrinsic_1)\n",
    "mean_all_0 = np.mean(mean_intrinsic_0)\n",
    "\n",
    "data_mean = pd.DataFrame({'Mean_0_Frequency': [mean_all_0],\n",
    "                     'Mean_1_Frequency':[mean_all_1]})\n",
    "data_mean\n",
    "#mean_all\n",
    "#mean_intrinsic_0;\n",
    "#mean_intrinsic_1"
   ]
  },
  {
   "cell_type": "code",
   "execution_count": 75,
   "metadata": {
    "collapsed": false,
    "ExecuteTime": {
     "end_time": "2023-07-10T06:43:57.655734100Z",
     "start_time": "2023-07-10T06:43:57.335831300Z"
    }
   },
   "outputs": [],
   "source": []
  },
  {
   "attachments": {},
   "cell_type": "markdown",
   "metadata": {
    "collapsed": false
   },
   "source": [
    "### <span style=\"color:#FF884D\"> Mann-Whitneyu-Test </span>\n",
    "### <span> H₀: There is no difference in motivation among the people who are more motivated when comparing to friends and people who are not more motivated when comparing to friends.</span>"
   ]
  },
  {
   "cell_type": "code",
   "execution_count": 76,
   "metadata": {
    "collapsed": false,
    "ExecuteTime": {
     "end_time": "2023-07-10T06:43:57.656732400Z",
     "start_time": "2023-07-10T06:43:57.346927200Z"
    }
   },
   "outputs": [
    {
     "name": "stdout",
     "output_type": "stream",
     "text": [
      "Mann-Whitney U statistic: 1919.0\n",
      "P-value: 0.014386936578556568\n",
      "0.41263202768685436\n"
     ]
    }
   ],
   "source": [
    "# Separate the data into two groups based on sport app usage\n",
    "# linear mixed effect models\n",
    "# visualize motivations and for what reason ppl used the sport apps\n",
    "group1 = data[data['Motivation when comparing to friends'] == 'Ja']['mean of Intrinsic motivations']\n",
    "group2 = data[data['Motivation when comparing to friends'] == 'Nein']['mean of Intrinsic motivations']\n",
    "\n",
    "# Perform the Mann-Whitney U test\n",
    "statistic, p_value = stats.mannwhitneyu(group1, group2, alternative='two-sided')\n",
    "\n",
    "# Print the results\n",
    "print(\"Mann-Whitney U statistic:\", statistic)\n",
    "print(\"P-value:\", p_value)\n",
    "# Calculate the effect size\n",
    "\n",
    "print(cohens_d(group1, group2))"
   ]
  },
  {
   "cell_type": "code",
   "execution_count": 77,
   "metadata": {
    "collapsed": false,
    "ExecuteTime": {
     "end_time": "2023-07-10T06:43:57.656732400Z",
     "start_time": "2023-07-10T06:43:57.356026800Z"
    }
   },
   "outputs": [
    {
     "name": "stdout",
     "output_type": "stream",
     "text": [
      "Mann-Whitney U statistic: 1900.5\n",
      "P-value: 0.018726619742956665\n",
      "0.41659707419517095\n"
     ]
    }
   ],
   "source": [
    "# Separate the data into two groups based on sport app usage\n",
    "group1 = data[data['Motivation when comparing to friends'] == 'Ja']['External Regulation']\n",
    "group2 = data[data['Motivation when comparing to friends'] == 'Nein']['External Regulation']\n",
    "\n",
    "# Perform the Mann-Whitney U test\n",
    "statistic, p_value = stats.mannwhitneyu(group1, group2, alternative='two-sided')\n",
    "\n",
    "# Print the results\n",
    "print(\"Mann-Whitney U statistic:\", statistic)\n",
    "print(\"P-value:\", p_value)\n",
    "# Calculate the effect size\n",
    "\n",
    "print(cohens_d(group1, group2))"
   ]
  },
  {
   "cell_type": "code",
   "execution_count": 78,
   "metadata": {
    "collapsed": false,
    "ExecuteTime": {
     "end_time": "2023-07-10T06:43:57.656732400Z",
     "start_time": "2023-07-10T06:43:57.368110Z"
    }
   },
   "outputs": [
    {
     "name": "stdout",
     "output_type": "stream",
     "text": [
      "Mann-Whitney U statistic: 1724.5\n",
      "P-value: 0.19265212187307523\n"
     ]
    }
   ],
   "source": [
    "# Separate the data into two groups based on sport app usage\n",
    "group1 = data[data['Motivation when comparing to friends'] == 'Ja']['Introjected Regulation']\n",
    "group2 = data[data['Motivation when comparing to friends'] == 'Nein']['Introjected Regulation']\n",
    "\n",
    "# Perform the Mann-Whitney U test\n",
    "statistic, p_value = stats.mannwhitneyu(group1, group2, alternative='two-sided')\n",
    "\n",
    "# Print the results\n",
    "print(\"Mann-Whitney U statistic:\", statistic)\n",
    "print(\"P-value:\", p_value)"
   ]
  },
  {
   "cell_type": "code",
   "execution_count": 79,
   "metadata": {
    "collapsed": false,
    "ExecuteTime": {
     "end_time": "2023-07-10T06:43:57.674682300Z",
     "start_time": "2023-07-10T06:43:57.377145100Z"
    }
   },
   "outputs": [
    {
     "name": "stdout",
     "output_type": "stream",
     "text": [
      "Mann-Whitney U statistic: 1745.0\n",
      "P-value: 0.14953937832890407\n"
     ]
    }
   ],
   "source": [
    "# Separate the data into two groups based on sport app usage\n",
    "group1 = data[data['Motivation when comparing to friends'] == 'Ja']['Amotivation']\n",
    "group2 = data[data['Motivation when comparing to friends'] == 'Nein']['Amotivation']\n",
    "\n",
    "# Perform the Mann-Whitney U test\n",
    "statistic, p_value = stats.mannwhitneyu(group1, group2, alternative='two-sided')\n",
    "\n",
    "# Print the results\n",
    "print(\"Mann-Whitney U statistic:\", statistic)\n",
    "print(\"P-value:\", p_value)"
   ]
  },
  {
   "attachments": {},
   "cell_type": "markdown",
   "metadata": {
    "collapsed": false
   },
   "source": [
    "### <span style=\"color:#FF884D\"> Mann-Whitneyu-Test </span>\n",
    "### <span> H₀: There is no difference in motivation among the people who do more or exact three types of sports and poeple who do less.</span>"
   ]
  },
  {
   "cell_type": "code",
   "execution_count": 80,
   "metadata": {
    "collapsed": false,
    "ExecuteTime": {
     "end_time": "2023-07-10T06:43:57.675682200Z",
     "start_time": "2023-07-10T06:43:57.388344200Z"
    }
   },
   "outputs": [
    {
     "name": "stdout",
     "output_type": "stream",
     "text": [
      "Mann-Whitney U statistic: 1820.0\n",
      "P-value: 0.030743400100218497\n"
     ]
    }
   ],
   "source": [
    "# Separate the data into two groups based on sport app usage\n",
    "group1 = data[data['numSports'] >= 2]['mean of Intrinsic motivations']\n",
    "group2 = data[data['numSports'] < 2]['mean of Intrinsic motivations']\n",
    "# Perform the Mann-Whitney U test\n",
    "statistic, p_value = stats.mannwhitneyu(group1, group2, alternative='two-sided')\n",
    "# Print the results\n",
    "print(\"Mann-Whitney U statistic:\", statistic)\n",
    "print(\"P-value:\", p_value)\n",
    "\n",
    "# Calculate the effect size"
   ]
  },
  {
   "cell_type": "code",
   "execution_count": 81,
   "metadata": {
    "collapsed": false,
    "ExecuteTime": {
     "end_time": "2023-07-10T06:43:57.676676700Z",
     "start_time": "2023-07-10T06:43:57.399119800Z"
    }
   },
   "outputs": [
    {
     "name": "stdout",
     "output_type": "stream",
     "text": [
      "Mann-Whitney U statistic: 1510.0\n",
      "P-value: 0.764851671868096\n"
     ]
    }
   ],
   "source": [
    "# Separate the data into two groups based on sport app usage\n",
    "group1 = data[data['numSports'] >= 2]['External Regulation']\n",
    "group2 = data[data['numSports'] < 2]['External Regulation']\n",
    "# Perform the Mann-Whitney U test\n",
    "statistic, p_value = stats.mannwhitneyu(group1, group2, alternative='two-sided')\n",
    "# Print the results\n",
    "print(\"Mann-Whitney U statistic:\", statistic)\n",
    "print(\"P-value:\", p_value)"
   ]
  },
  {
   "attachments": {},
   "cell_type": "markdown",
   "metadata": {
    "collapsed": false
   },
   "source": []
  },
  {
   "cell_type": "code",
   "execution_count": 82,
   "metadata": {
    "collapsed": false,
    "ExecuteTime": {
     "end_time": "2023-07-10T06:43:57.677675300Z",
     "start_time": "2023-07-10T06:43:57.410319200Z"
    }
   },
   "outputs": [
    {
     "name": "stdout",
     "output_type": "stream",
     "text": [
      "Mann-Whitney U statistic: 1721.0\n",
      "P-value: 0.11563864838424046\n"
     ]
    }
   ],
   "source": [
    "# Separate the data into two groups based on sport app usage\n",
    "group1 = data[data['numSports'] >= 2]['Introjected Regulation']\n",
    "group2 = data[data['numSports'] < 2]['Introjected Regulation']\n",
    "# Perform the Mann-Whitney U test\n",
    "statistic, p_value = stats.mannwhitneyu(group1, group2, alternative='two-sided')\n",
    "# Print the results\n",
    "print(\"Mann-Whitney U statistic:\", statistic)\n",
    "print(\"P-value:\", p_value)"
   ]
  },
  {
   "cell_type": "code",
   "execution_count": 83,
   "metadata": {
    "collapsed": false,
    "ExecuteTime": {
     "end_time": "2023-07-10T06:43:57.678672800Z",
     "start_time": "2023-07-10T06:43:57.422176600Z"
    }
   },
   "outputs": [
    {
     "name": "stdout",
     "output_type": "stream",
     "text": [
      "Mann-Whitney U statistic: 1236.5\n",
      "P-value: 0.17307282476212793\n"
     ]
    }
   ],
   "source": [
    "# Separate the data into two groups based on sport app usage\n",
    "group1 = data[data['numSports'] >= 2]['Amotivation']\n",
    "group2 = data[data['numSports'] < 2]['Amotivation']\n",
    "# Perform the Mann-Whitney U test\n",
    "statistic, p_value = stats.mannwhitneyu(group1, group2, alternative='two-sided')\n",
    "# Print the results\n",
    "print(\"Mann-Whitney U statistic:\", statistic)\n",
    "print(\"P-value:\", p_value)"
   ]
  },
  {
   "attachments": {},
   "cell_type": "markdown",
   "metadata": {
    "collapsed": false
   },
   "source": [
    "### <span style=\"color:#FF884D\"> Mann-Whitneyu-Test </span>\n",
    "### <span> H₀: There is no difference in motivation among the people who track there own performance and the people who do not track there performance.</span>"
   ]
  },
  {
   "cell_type": "code",
   "execution_count": 84,
   "metadata": {
    "collapsed": false,
    "ExecuteTime": {
     "end_time": "2023-07-10T06:43:57.678672800Z",
     "start_time": "2023-07-10T06:43:57.433921700Z"
    }
   },
   "outputs": [
    {
     "name": "stdout",
     "output_type": "stream",
     "text": [
      "Mann-Whitney U statistic: 1415.0\n",
      "P-value: 0.1960649005814461\n"
     ]
    }
   ],
   "source": [
    "# Separate the data into two groups based on sport app usage\n",
    "group1 = data[data['track performance'] == 1]['mean of Intrinsic motivations']\n",
    "group2 = data[data['track performance'] != 1]['mean of Intrinsic motivations']\n",
    "# Perform the Mann-Whitney U test\n",
    "statistic, p_value = stats.mannwhitneyu(group1, group2, alternative='two-sided')\n",
    "# Print the results\n",
    "print(\"Mann-Whitney U statistic:\", statistic)\n",
    "print(\"P-value:\", p_value)"
   ]
  },
  {
   "cell_type": "code",
   "execution_count": 85,
   "metadata": {
    "collapsed": false,
    "ExecuteTime": {
     "end_time": "2023-07-10T06:43:57.684655400Z",
     "start_time": "2023-07-10T06:43:57.443015200Z"
    }
   },
   "outputs": [
    {
     "name": "stdout",
     "output_type": "stream",
     "text": [
      "Mann-Whitney U statistic: 1416.0\n",
      "P-value: 0.1913369200804872\n"
     ]
    }
   ],
   "source": [
    "# Separate the data into two groups based on sport app usage\n",
    "group1 = data[data['track performance'] == 1]['External Regulation']\n",
    "group2 = data[data['track performance'] != 1]['External Regulation']\n",
    "# Perform the Mann-Whitney U test\n",
    "statistic, p_value = stats.mannwhitneyu(group1, group2, alternative='two-sided')\n",
    "# Print the results\n",
    "print(\"Mann-Whitney U statistic:\", statistic)\n",
    "print(\"P-value:\", p_value)"
   ]
  },
  {
   "cell_type": "code",
   "execution_count": 86,
   "metadata": {
    "collapsed": false,
    "ExecuteTime": {
     "end_time": "2023-07-10T06:43:57.684655400Z",
     "start_time": "2023-07-10T06:43:57.454171800Z"
    }
   },
   "outputs": [
    {
     "name": "stdout",
     "output_type": "stream",
     "text": [
      "Mann-Whitney U statistic: 1498.5\n",
      "P-value: 0.0640953870124492\n"
     ]
    }
   ],
   "source": [
    "# Separate the data into two groups based on sport app usage\n",
    "group1 = data[data['track performance'] == 1]['Introjected Regulation']\n",
    "group2 = data[data['track performance'] != 1]['Introjected Regulation']\n",
    "# Perform the Mann-Whitney U test\n",
    "statistic, p_value = stats.mannwhitneyu(group1, group2, alternative='two-sided')\n",
    "# Print the results\n",
    "print(\"Mann-Whitney U statistic:\", statistic)\n",
    "print(\"P-value:\", p_value)"
   ]
  },
  {
   "cell_type": "code",
   "execution_count": 87,
   "metadata": {
    "collapsed": false,
    "ExecuteTime": {
     "end_time": "2023-07-10T06:43:57.685654300Z",
     "start_time": "2023-07-10T06:43:57.465671500Z"
    }
   },
   "outputs": [
    {
     "name": "stdout",
     "output_type": "stream",
     "text": [
      "Mann-Whitney U statistic: 1207.0\n",
      "P-value: 0.9440082756531538\n"
     ]
    }
   ],
   "source": [
    "# Separate the data into two groups based on sport app usage\n",
    "group1 = data[data['track performance'] == 1]['Amotivation']\n",
    "group2 = data[data['track performance'] != 1]['Amotivation']\n",
    "# Perform the Mann-Whitney U test\n",
    "statistic, p_value = stats.mannwhitneyu(group1, group2, alternative='two-sided')\n",
    "# Print the results\n",
    "print(\"Mann-Whitney U statistic:\", statistic)\n",
    "print(\"P-value:\", p_value)"
   ]
  }
 ],
 "metadata": {
  "kernelspec": {
   "display_name": "Python 3",
   "language": "python",
   "name": "python3"
  },
  "language_info": {
   "codemirror_mode": {
    "name": "ipython",
    "version": 3
   },
   "file_extension": ".py",
   "mimetype": "text/x-python",
   "name": "python",
   "nbconvert_exporter": "python",
   "pygments_lexer": "ipython3",
   "version": "3.8.8"
  }
 },
 "nbformat": 4,
 "nbformat_minor": 0
}
