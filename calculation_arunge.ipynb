{
 "cells": [
  {
   "cell_type": "markdown",
   "source": [
    "### <span style=\"color:#FF884D\"> Imports and data import </span>"
   ],
   "metadata": {
    "collapsed": false
   }
  },
  {
   "cell_type": "code",
   "execution_count": 49,
   "metadata": {
    "collapsed": true,
    "ExecuteTime": {
     "end_time": "2023-07-04T11:04:27.307050100Z",
     "start_time": "2023-07-04T11:04:27.275286200Z"
    }
   },
   "outputs": [
    {
     "data": {
      "text/plain": "     Unnamed: 0    Gender  Age  Sport Frequency  \\\n0             0  Weiblich   22                5   \n1             1  Weiblich   23                3   \n2             2  Weiblich   25                3   \n3             3  Weiblich   18                3   \n4             4  Weiblich   18                1   \n..          ...       ...  ...              ...   \n108         108  Weiblich   65                5   \n109         109  Männlich   54                0   \n110         110  Weiblich   64                3   \n111         111  Männlich   24                3   \n112         112  Weiblich   26                1   \n\n                          Type of Sport Ever used Sportapp  \\\n0     Joggen, Ballsportarten, Schwimmen                 Ja   \n1                 Fitness-Kurse, Tanzen                 Ja   \n2    Joggen, Kraftsport, Ballsportarten                 Ja   \n3            Kraftsport, Ballsportarten                 Ja   \n4       Ballsportarten, Fahrrad fahren                  Ja   \n..                                  ...                ...   \n108                              Walken               Nein   \n109                Schwimmen, Radfahren               Nein   \n110                       Fitness-Kurse                 Ja   \n111                           Badminton                 Ja   \n112       Ballsportarten, Fitness-Kurse                 Ja   \n\n     Frequency Sportapp                                   Reason sportapp   \\\n0                     1  Zum Tracken meiner Leistungen, Um mir Ziele zu...   \n1                     1  Zum Tracken meiner Leistungen, Um das Training...   \n2                     1                      Zum Tracken meiner Leistungen   \n3                     1  Zum Tracken meiner Leistungen, Um einen Sport-...   \n4                     0                      Zum Tracken meiner Leistungen   \n..                  ...                                                ...   \n108                   0                             Benutze keine Sportapp   \n109                   0                             Um mir Ziele zu setzen   \n110                   1  Zum Tracken meiner Leistungen, Um Kurse zu Buc...   \n111                   1  Zum Tracken meiner Leistungen, Um das Training...   \n112                   1  Zum Tracken meiner Leistungen, Um mir Ziele zu...   \n\n    Goals more efficient through sportapp  \\\n0                                      Ja   \n1                                      Ja   \n2                                      Ja   \n3                                      Ja   \n4                                      Ja   \n..                                    ...   \n108                                  Nein   \n109                                  Nein   \n110                                    Ja   \n111                                    Ja   \n112                                    Ja   \n\n    Motivation when comparing to friends  Amotivation  External Regulation  \\\n0                                   Nein         1.25                 2.75   \n1                                     Ja         3.00                 3.00   \n2                                   Nein         1.25                 2.00   \n3                                   Nein         1.50                 2.25   \n4                                   Nein         2.25                 2.00   \n..                                   ...          ...                  ...   \n108                                 Nein         1.00                 1.00   \n109                                 Nein         1.00                 1.50   \n110                                 Nein         1.50                 2.00   \n111                                   Ja         2.50                 2.25   \n112                                 Nein         1.50                 1.00   \n\n     Introjected Regulation  Identified Regulation  Integrated Regulation  \\\n0                      4.00                   3.50                   4.25   \n1                      4.00                   3.75                   3.25   \n2                      4.50                   3.00                   4.25   \n3                      3.25                   3.75                   5.00   \n4                      3.00                   3.00                   3.75   \n..                      ...                    ...                    ...   \n108                    2.00                   1.00                   1.00   \n109                    2.75                   1.50                   1.75   \n110                    4.75                   3.50                   3.50   \n111                    3.75                   3.50                   3.75   \n112                    2.25                   2.75                   2.75   \n\n     Intrinsic Motivation  numSports  compare  track performance  \\\n0                    4.25          2        0                  1   \n1                    3.50          1        1                  1   \n2                    4.25          2        0                  1   \n3                    4.00          1        0                  1   \n4                    2.50          1        0                  1   \n..                    ...        ...      ...                ...   \n108                  1.00          0        0                  0   \n109                  1.75          1        0                  0   \n110                  4.25          0        0                  1   \n111                  4.25          0        1                  1   \n112                  2.25          1        0                  1   \n\n     mean of Intrinsic motivations  \n0                         4.000000  \n1                         3.500000  \n2                         3.833333  \n3                         4.250000  \n4                         3.083333  \n..                             ...  \n108                       1.000000  \n109                       1.666667  \n110                       3.750000  \n111                       3.833333  \n112                       2.583333  \n\n[113 rows x 20 columns]",
      "text/html": "<div>\n<style scoped>\n    .dataframe tbody tr th:only-of-type {\n        vertical-align: middle;\n    }\n\n    .dataframe tbody tr th {\n        vertical-align: top;\n    }\n\n    .dataframe thead th {\n        text-align: right;\n    }\n</style>\n<table border=\"1\" class=\"dataframe\">\n  <thead>\n    <tr style=\"text-align: right;\">\n      <th></th>\n      <th>Unnamed: 0</th>\n      <th>Gender</th>\n      <th>Age</th>\n      <th>Sport Frequency</th>\n      <th>Type of Sport</th>\n      <th>Ever used Sportapp</th>\n      <th>Frequency Sportapp</th>\n      <th>Reason sportapp</th>\n      <th>Goals more efficient through sportapp</th>\n      <th>Motivation when comparing to friends</th>\n      <th>Amotivation</th>\n      <th>External Regulation</th>\n      <th>Introjected Regulation</th>\n      <th>Identified Regulation</th>\n      <th>Integrated Regulation</th>\n      <th>Intrinsic Motivation</th>\n      <th>numSports</th>\n      <th>compare</th>\n      <th>track performance</th>\n      <th>mean of Intrinsic motivations</th>\n    </tr>\n  </thead>\n  <tbody>\n    <tr>\n      <th>0</th>\n      <td>0</td>\n      <td>Weiblich</td>\n      <td>22</td>\n      <td>5</td>\n      <td>Joggen, Ballsportarten, Schwimmen</td>\n      <td>Ja</td>\n      <td>1</td>\n      <td>Zum Tracken meiner Leistungen, Um mir Ziele zu...</td>\n      <td>Ja</td>\n      <td>Nein</td>\n      <td>1.25</td>\n      <td>2.75</td>\n      <td>4.00</td>\n      <td>3.50</td>\n      <td>4.25</td>\n      <td>4.25</td>\n      <td>2</td>\n      <td>0</td>\n      <td>1</td>\n      <td>4.000000</td>\n    </tr>\n    <tr>\n      <th>1</th>\n      <td>1</td>\n      <td>Weiblich</td>\n      <td>23</td>\n      <td>3</td>\n      <td>Fitness-Kurse, Tanzen</td>\n      <td>Ja</td>\n      <td>1</td>\n      <td>Zum Tracken meiner Leistungen, Um das Training...</td>\n      <td>Ja</td>\n      <td>Ja</td>\n      <td>3.00</td>\n      <td>3.00</td>\n      <td>4.00</td>\n      <td>3.75</td>\n      <td>3.25</td>\n      <td>3.50</td>\n      <td>1</td>\n      <td>1</td>\n      <td>1</td>\n      <td>3.500000</td>\n    </tr>\n    <tr>\n      <th>2</th>\n      <td>2</td>\n      <td>Weiblich</td>\n      <td>25</td>\n      <td>3</td>\n      <td>Joggen, Kraftsport, Ballsportarten</td>\n      <td>Ja</td>\n      <td>1</td>\n      <td>Zum Tracken meiner Leistungen</td>\n      <td>Ja</td>\n      <td>Nein</td>\n      <td>1.25</td>\n      <td>2.00</td>\n      <td>4.50</td>\n      <td>3.00</td>\n      <td>4.25</td>\n      <td>4.25</td>\n      <td>2</td>\n      <td>0</td>\n      <td>1</td>\n      <td>3.833333</td>\n    </tr>\n    <tr>\n      <th>3</th>\n      <td>3</td>\n      <td>Weiblich</td>\n      <td>18</td>\n      <td>3</td>\n      <td>Kraftsport, Ballsportarten</td>\n      <td>Ja</td>\n      <td>1</td>\n      <td>Zum Tracken meiner Leistungen, Um einen Sport-...</td>\n      <td>Ja</td>\n      <td>Nein</td>\n      <td>1.50</td>\n      <td>2.25</td>\n      <td>3.25</td>\n      <td>3.75</td>\n      <td>5.00</td>\n      <td>4.00</td>\n      <td>1</td>\n      <td>0</td>\n      <td>1</td>\n      <td>4.250000</td>\n    </tr>\n    <tr>\n      <th>4</th>\n      <td>4</td>\n      <td>Weiblich</td>\n      <td>18</td>\n      <td>1</td>\n      <td>Ballsportarten, Fahrrad fahren</td>\n      <td>Ja</td>\n      <td>0</td>\n      <td>Zum Tracken meiner Leistungen</td>\n      <td>Ja</td>\n      <td>Nein</td>\n      <td>2.25</td>\n      <td>2.00</td>\n      <td>3.00</td>\n      <td>3.00</td>\n      <td>3.75</td>\n      <td>2.50</td>\n      <td>1</td>\n      <td>0</td>\n      <td>1</td>\n      <td>3.083333</td>\n    </tr>\n    <tr>\n      <th>...</th>\n      <td>...</td>\n      <td>...</td>\n      <td>...</td>\n      <td>...</td>\n      <td>...</td>\n      <td>...</td>\n      <td>...</td>\n      <td>...</td>\n      <td>...</td>\n      <td>...</td>\n      <td>...</td>\n      <td>...</td>\n      <td>...</td>\n      <td>...</td>\n      <td>...</td>\n      <td>...</td>\n      <td>...</td>\n      <td>...</td>\n      <td>...</td>\n      <td>...</td>\n    </tr>\n    <tr>\n      <th>108</th>\n      <td>108</td>\n      <td>Weiblich</td>\n      <td>65</td>\n      <td>5</td>\n      <td>Walken</td>\n      <td>Nein</td>\n      <td>0</td>\n      <td>Benutze keine Sportapp</td>\n      <td>Nein</td>\n      <td>Nein</td>\n      <td>1.00</td>\n      <td>1.00</td>\n      <td>2.00</td>\n      <td>1.00</td>\n      <td>1.00</td>\n      <td>1.00</td>\n      <td>0</td>\n      <td>0</td>\n      <td>0</td>\n      <td>1.000000</td>\n    </tr>\n    <tr>\n      <th>109</th>\n      <td>109</td>\n      <td>Männlich</td>\n      <td>54</td>\n      <td>0</td>\n      <td>Schwimmen, Radfahren</td>\n      <td>Nein</td>\n      <td>0</td>\n      <td>Um mir Ziele zu setzen</td>\n      <td>Nein</td>\n      <td>Nein</td>\n      <td>1.00</td>\n      <td>1.50</td>\n      <td>2.75</td>\n      <td>1.50</td>\n      <td>1.75</td>\n      <td>1.75</td>\n      <td>1</td>\n      <td>0</td>\n      <td>0</td>\n      <td>1.666667</td>\n    </tr>\n    <tr>\n      <th>110</th>\n      <td>110</td>\n      <td>Weiblich</td>\n      <td>64</td>\n      <td>3</td>\n      <td>Fitness-Kurse</td>\n      <td>Ja</td>\n      <td>1</td>\n      <td>Zum Tracken meiner Leistungen, Um Kurse zu Buc...</td>\n      <td>Ja</td>\n      <td>Nein</td>\n      <td>1.50</td>\n      <td>2.00</td>\n      <td>4.75</td>\n      <td>3.50</td>\n      <td>3.50</td>\n      <td>4.25</td>\n      <td>0</td>\n      <td>0</td>\n      <td>1</td>\n      <td>3.750000</td>\n    </tr>\n    <tr>\n      <th>111</th>\n      <td>111</td>\n      <td>Männlich</td>\n      <td>24</td>\n      <td>3</td>\n      <td>Badminton</td>\n      <td>Ja</td>\n      <td>1</td>\n      <td>Zum Tracken meiner Leistungen, Um das Training...</td>\n      <td>Ja</td>\n      <td>Ja</td>\n      <td>2.50</td>\n      <td>2.25</td>\n      <td>3.75</td>\n      <td>3.50</td>\n      <td>3.75</td>\n      <td>4.25</td>\n      <td>0</td>\n      <td>1</td>\n      <td>1</td>\n      <td>3.833333</td>\n    </tr>\n    <tr>\n      <th>112</th>\n      <td>112</td>\n      <td>Weiblich</td>\n      <td>26</td>\n      <td>1</td>\n      <td>Ballsportarten, Fitness-Kurse</td>\n      <td>Ja</td>\n      <td>1</td>\n      <td>Zum Tracken meiner Leistungen, Um mir Ziele zu...</td>\n      <td>Ja</td>\n      <td>Nein</td>\n      <td>1.50</td>\n      <td>1.00</td>\n      <td>2.25</td>\n      <td>2.75</td>\n      <td>2.75</td>\n      <td>2.25</td>\n      <td>1</td>\n      <td>0</td>\n      <td>1</td>\n      <td>2.583333</td>\n    </tr>\n  </tbody>\n</table>\n<p>113 rows × 20 columns</p>\n</div>"
     },
     "execution_count": 49,
     "metadata": {},
     "output_type": "execute_result"
    }
   ],
   "source": [
    "# import numpy as np\n",
    "import pandas as pd\n",
    "import sm as sm\n",
    "import pandas as pd\n",
    "import statsmodels.api as sm\n",
    "from matplotlib import pyplot as plt\n",
    "from scipy import stats\n",
    "import scipy.stats as stats\n",
    "import plotly.express as px\n",
    "import numpy as np\n",
    "\n",
    "data = pd.read_csv(\"data.csv\")\n",
    "data\n"
   ]
  },
  {
   "cell_type": "markdown",
   "source": [
    "### <span style=\"color:#FF884D\"> Unpaired T-Test </span>\n",
    "### <span>H₀: The Amotivation is equal when people are 25 or younger. </span>"
   ],
   "metadata": {
    "collapsed": false
   }
  },
  {
   "cell_type": "code",
   "execution_count": 181,
   "outputs": [
    {
     "name": "stdout",
     "output_type": "stream",
     "text": [
      "T-Statistic: 0.6740134484464786\n",
      "P-value: 0.5017039750750504\n"
     ]
    }
   ],
   "source": [
    "# Assuming you have two arrays of amotivation scores for the two groups\n",
    "\n",
    "group1 = data[data['Age'] <= 25]['Amotivation']\n",
    "group2 = data[data['Age'] > 25]['Amotivation']\n",
    "\n",
    "# Perform the t-test\n",
    "t_statistic, p_value = stats.ttest_ind(group1, group2)\n",
    "\n",
    "# Print the results\n",
    "print(\"T-Statistic:\", t_statistic)\n",
    "print(\"P-value:\", p_value)"
   ],
   "metadata": {
    "collapsed": false,
    "ExecuteTime": {
     "end_time": "2023-06-27T12:41:51.899987600Z",
     "start_time": "2023-06-27T12:41:51.424045900Z"
    }
   }
  },
  {
   "cell_type": "markdown",
   "source": [
    "### <span style=\"color:#FF884D\"> Mann-Whitneyu-Test </span>\n",
    "### <span>H₀: The Amotivation is equal when people are 25 or younger. </span>"
   ],
   "metadata": {
    "collapsed": false
   }
  },
  {
   "cell_type": "markdown",
   "source": [],
   "metadata": {
    "collapsed": false
   }
  },
  {
   "cell_type": "code",
   "execution_count": 182,
   "outputs": [
    {
     "name": "stdout",
     "output_type": "stream",
     "text": [
      "Mann-Whitney U statistic: 1670.5\n",
      "P-value: 0.32077514717865874\n"
     ]
    }
   ],
   "source": [
    "# Perform the Mann-Whitney U test\n",
    "statistic, p_value = stats.mannwhitneyu(group1, group2)\n",
    "\n",
    "# Print the results\n",
    "print(\"Mann-Whitney U statistic:\", statistic)\n",
    "print(\"P-value:\", p_value)"
   ],
   "metadata": {
    "collapsed": false,
    "ExecuteTime": {
     "end_time": "2023-06-27T12:41:51.899987600Z",
     "start_time": "2023-06-27T12:41:51.438125100Z"
    }
   }
  },
  {
   "cell_type": "markdown",
   "source": [
    "### <span style=\"color:#FF884D\"> Mann-Whitneyu-Test </span>\n",
    "### <span>H₀: The Intrinsic Motivation is diffrent when people are doing Sports more than 3 times a week. </span>"
   ],
   "metadata": {
    "collapsed": false
   }
  },
  {
   "cell_type": "code",
   "execution_count": 183,
   "outputs": [
    {
     "name": "stdout",
     "output_type": "stream",
     "text": [
      "Mann-Whitney U statistic: 1983.0\n",
      "P-value: 0.0010722548671885884\n"
     ]
    }
   ],
   "source": [
    "\n",
    "# Separate the data into two groups based on sports frequency\n",
    "group1 = data[data['Sport Frequency'] >= 3]['Intrinsic Motivation']\n",
    "group2 = data[data['Sport Frequency'] < 3]['Intrinsic Motivation']\n",
    "\n",
    "# Perform the Mann-Whitney U test\n",
    "statistic, p_value = stats.mannwhitneyu(group1, group2, alternative='two-sided')\n",
    "\n",
    "# Print the results\n",
    "print(\"Mann-Whitney U statistic:\", statistic)\n",
    "print(\"P-value:\", p_value)\n"
   ],
   "metadata": {
    "collapsed": false,
    "ExecuteTime": {
     "end_time": "2023-06-27T12:41:51.899987600Z",
     "start_time": "2023-06-27T12:41:51.453988300Z"
    }
   }
  },
  {
   "cell_type": "markdown",
   "source": [
    "### <span style=\"color:#FF884D\"> Wilcoxon signed-rank test</span>\n",
    "### <span>H₀: The Intrinsic Motivation is diffrent when people are doing Sports more than 3 times a week. </span>"
   ],
   "metadata": {
    "collapsed": false
   }
  },
  {
   "cell_type": "code",
   "execution_count": 184,
   "outputs": [
    {
     "name": "stdout",
     "output_type": "stream",
     "text": [
      "Wilcoxon signed-rank statistic: 376.5\n",
      "P-value: 3.7262450345598525e-07\n"
     ]
    }
   ],
   "source": [
    "# Select the intrinsic motivation scores for people doing sports 3 or more times a week\n",
    "group = data[data['Sport Frequency'] >= 3]['Intrinsic Motivation']\n",
    "expected_median = np.median( data[data['Sport Frequency'] < 3]['Intrinsic Motivation'])\n",
    "# Perform the Wilcoxon signed-rank test\n",
    "statistic, p_value = stats.wilcoxon(group - expected_median)\n",
    "\n",
    "# Print the results\n",
    "print(\"Wilcoxon signed-rank statistic:\", statistic)\n",
    "print(\"P-value:\", p_value)\n"
   ],
   "metadata": {
    "collapsed": false,
    "ExecuteTime": {
     "end_time": "2023-06-27T12:41:51.899987600Z",
     "start_time": "2023-06-27T12:41:51.469668300Z"
    }
   }
  },
  {
   "cell_type": "markdown",
   "source": [
    "### <span style=\"color:#FF884D\"> Unpaired t-test</span>\n",
    "### <span> H₀: There is no difference in intrinsic motivation between people who have ever used a sport app and people who have never used a sport app. </span>"
   ],
   "metadata": {
    "collapsed": false
   }
  },
  {
   "cell_type": "code",
   "execution_count": 185,
   "outputs": [
    {
     "name": "stdout",
     "output_type": "stream",
     "text": [
      "T-Statistic: 2.9772086210627497\n",
      "P-value: 0.003571886441227634\n"
     ]
    }
   ],
   "source": [
    "# Separate the data into two groups based on sport app usage\n",
    "group1 = data[data['Ever used Sportapp'] == 'Ja']['Intrinsic Motivation']\n",
    "group2 = data[data['Ever used Sportapp'] == 'Nein']['Intrinsic Motivation']\n",
    "\n",
    "# Perform the two-sample t-test\n",
    "t_statistic, p_value = stats.ttest_ind(group1, group2)\n",
    "\n",
    "# Print the results\n",
    "print(\"T-Statistic:\", t_statistic)\n",
    "print(\"P-value:\", p_value)\n"
   ],
   "metadata": {
    "collapsed": false,
    "ExecuteTime": {
     "end_time": "2023-06-27T12:41:51.899987600Z",
     "start_time": "2023-06-27T12:41:51.477370100Z"
    }
   }
  },
  {
   "cell_type": "markdown",
   "source": [
    "### <span style=\"color:#FF884D\"> Mann-Whitneyu-Test </span>\n",
    "### <span> H₀: There is no difference in intrinsic motivation between people who have ever used a sport app and people who have never used a sport app. </span>"
   ],
   "metadata": {
    "collapsed": false
   }
  },
  {
   "cell_type": "markdown",
   "source": [],
   "metadata": {
    "collapsed": false
   }
  },
  {
   "cell_type": "code",
   "execution_count": 186,
   "outputs": [
    {
     "name": "stdout",
     "output_type": "stream",
     "text": [
      "Mann-Whitney U statistic: 1116.0\n",
      "P-value: 0.01575042022421574\n"
     ]
    }
   ],
   "source": [
    "# Separate the data into two groups based on sport app usage\n",
    "group1 = data[data['Ever used Sportapp'] == 'Ja']['Intrinsic Motivation']\n",
    "group2 = data[data['Ever used Sportapp'] == 'Nein']['Intrinsic Motivation']\n",
    "\n",
    "# Perform the Mann-Whitney U test\n",
    "statistic, p_value = stats.mannwhitneyu(group1, group2, alternative='two-sided')\n",
    "\n",
    "# Print the results\n",
    "print(\"Mann-Whitney U statistic:\", statistic)\n",
    "print(\"P-value:\", p_value)\n"
   ],
   "metadata": {
    "collapsed": false,
    "ExecuteTime": {
     "end_time": "2023-06-27T12:41:51.899987600Z",
     "start_time": "2023-06-27T12:41:51.506057500Z"
    }
   }
  },
  {
   "cell_type": "markdown",
   "source": [
    "### <span style=\"color:#FF884D\"> ANOVA-Test </span>\n",
    "### <span> H₀: There is no difference in intrinsic motivation among the groups based on the frequency of using the sports app.</span>"
   ],
   "metadata": {
    "collapsed": false
   }
  },
  {
   "cell_type": "code",
   "execution_count": 187,
   "outputs": [
    {
     "name": "stdout",
     "output_type": "stream",
     "text": [
      "F-Statistic: 1.6332913074284061\n",
      "P-value: 0.18587508011357787\n"
     ]
    }
   ],
   "source": [
    "# Create separate groups based on app usage frequency\n",
    "group1 = data[data['Frequency Sportapp'] == 0]['Intrinsic Motivation']\n",
    "group2 = data[data['Frequency Sportapp'] == 1]['Intrinsic Motivation']\n",
    "group3 = data[data['Frequency Sportapp'] == 2]['Intrinsic Motivation']\n",
    "group4 = data[data['Frequency Sportapp'] == 3]['Intrinsic Motivation']\n",
    "\n",
    "# Perform one-way ANOVA\n",
    "f_statistic, p_value = stats.f_oneway(group1, group2, group3, group4)\n",
    "\n",
    "# Print the results\n",
    "print(\"F-Statistic:\", f_statistic)\n",
    "print(\"P-value:\", p_value)\n"
   ],
   "metadata": {
    "collapsed": false,
    "ExecuteTime": {
     "end_time": "2023-06-27T12:41:51.899987600Z",
     "start_time": "2023-06-27T12:41:51.523520700Z"
    }
   }
  },
  {
   "cell_type": "markdown",
   "source": [
    "### <span style=\"color:#FF884D\"> ANOVA-Test </span>\n",
    "### <span> H₀: There is no difference in intrinsic motivation among the groups based on the frequency of using the sports app.</span>"
   ],
   "metadata": {
    "collapsed": false
   }
  },
  {
   "cell_type": "code",
   "execution_count": 188,
   "outputs": [
    {
     "name": "stdout",
     "output_type": "stream",
     "text": [
      "F-Statistic: 1.0650977667918837\n",
      "P-value: 0.30541660543809235\n"
     ]
    }
   ],
   "source": [
    "# Create separate groups based on app usage frequency\n",
    "group1 = data[data['Frequency Sportapp'] == 0]['Intrinsic Motivation']\n",
    "group2 = data[data['Frequency Sportapp'] != 1]['Intrinsic Motivation']\n",
    "\n",
    "\n",
    "# Perform one-way ANOVA\n",
    "f_statistic, p_value = stats.f_oneway(group1, group2)\n",
    "\n",
    "# Print the results\n",
    "print(\"F-Statistic:\", f_statistic)\n",
    "print(\"P-value:\", p_value)\n"
   ],
   "metadata": {
    "collapsed": false,
    "ExecuteTime": {
     "end_time": "2023-06-27T12:41:51.899987600Z",
     "start_time": "2023-06-27T12:41:51.537813600Z"
    }
   }
  },
  {
   "cell_type": "markdown",
   "source": [
    "### <span style=\"color:#FF884D\"> Mann-Whitneyu-Test </span>\n",
    "### <span> H₀: There is no difference in intrinsic motivation among the people who use a Sport-App regulary and not.</span>"
   ],
   "metadata": {
    "collapsed": false
   }
  },
  {
   "cell_type": "code",
   "execution_count": 189,
   "outputs": [
    {
     "name": "stdout",
     "output_type": "stream",
     "text": [
      "Mann-Whitney U statistic: 683.5\n",
      "P-value: 0.17803262853756852\n"
     ]
    }
   ],
   "source": [
    "# Separate the data into two groups based on sport app usage\n",
    "group1 = data[data['Frequency Sportapp'] == 0]['Intrinsic Motivation']\n",
    "group2 = data[data['Frequency Sportapp'] != 0]['Intrinsic Motivation']\n",
    "\n",
    "# Perform the Mann-Whitney U test\n",
    "statistic, p_value = stats.mannwhitneyu(group1, group2, alternative='two-sided')\n",
    "\n",
    "# Print the results\n",
    "print(\"Mann-Whitney U statistic:\", statistic)\n",
    "print(\"P-value:\", p_value)\n"
   ],
   "metadata": {
    "collapsed": false,
    "ExecuteTime": {
     "end_time": "2023-06-27T12:41:51.899987600Z",
     "start_time": "2023-06-27T12:41:51.553725800Z"
    }
   }
  },
  {
   "cell_type": "markdown",
   "source": [
    "### <span style=\"color:#FF884D\"> Mann-Whitneyu-Test </span>\n",
    "### <span> H₀: There is no difference in intrinsic motivation among the people who use a Sport-App regulary and not.</span>"
   ],
   "metadata": {
    "collapsed": false
   }
  },
  {
   "cell_type": "code",
   "execution_count": 190,
   "outputs": [
    {
     "name": "stdout",
     "output_type": "stream",
     "text": [
      "Mann-Whitney U statistic: 654.0\n",
      "P-value: 0.11388418864371025\n"
     ]
    }
   ],
   "source": [
    "# Separate the data into two groups based on sport app usage\n",
    "group1 = data[data['Frequency Sportapp'] == 0]['Integrated Regulation']\n",
    "group2 = data[data['Frequency Sportapp'] != 0]['Integrated Regulation']\n",
    "\n",
    "# Perform the Mann-Whitney U test\n",
    "statistic, p_value = stats.mannwhitneyu(group1, group2, alternative='two-sided')\n",
    "\n",
    "# Print the results\n",
    "print(\"Mann-Whitney U statistic:\", statistic)\n",
    "print(\"P-value:\", p_value)"
   ],
   "metadata": {
    "collapsed": false,
    "ExecuteTime": {
     "end_time": "2023-06-27T12:41:51.924198700Z",
     "start_time": "2023-06-27T12:41:51.569409100Z"
    }
   }
  },
  {
   "cell_type": "code",
   "execution_count": 191,
   "outputs": [
    {
     "name": "stdout",
     "output_type": "stream",
     "text": [
      "Mann-Whitney U statistic: 737.5\n",
      "P-value: 0.4314080926823797\n"
     ]
    }
   ],
   "source": [
    "\n",
    "# Separate the data into two groups based on sport app usage\n",
    "group1 = data[data['Frequency Sportapp'] == 3]['Integrated Regulation']\n",
    "group2 = data[data['Frequency Sportapp'] != 3]['Integrated Regulation']\n",
    "\n",
    "# Perform the Mann-Whitney U test\n",
    "statistic, p_value = stats.mannwhitneyu(group1, group2, alternative='two-sided')\n",
    "\n",
    "# Print the results\n",
    "print(\"Mann-Whitney U statistic:\", statistic)\n",
    "print(\"P-value:\", p_value)\n"
   ],
   "metadata": {
    "collapsed": false,
    "ExecuteTime": {
     "end_time": "2023-06-27T12:41:51.924198700Z",
     "start_time": "2023-06-27T12:41:51.585166700Z"
    }
   }
  },
  {
   "cell_type": "markdown",
   "source": [
    "### <span style=\"color:#FF884D\"> Spearmanr-Test </span>\n",
    "### <span> H₀: There is no monotonic relationship between the frequency of using the sports app and intrinsic motivation.</span>"
   ],
   "metadata": {
    "collapsed": false
   }
  },
  {
   "cell_type": "code",
   "execution_count": 192,
   "outputs": [
    {
     "name": "stdout",
     "output_type": "stream",
     "text": [
      "Spearman's correlation coefficient: 0.17669476357538946\n",
      "P-value: 0.061183637248595206\n"
     ]
    }
   ],
   "source": [
    "# Extract the relevant columns for app usage frequency and intrinsic motivation\n",
    "app_usage = data['Frequency Sportapp']\n",
    "identified_motivation = data['Identified Regulation']\n",
    "\n",
    "# Perform Spearman's rank correlation test\n",
    "correlation, p_value = stats.spearmanr(app_usage, identified_motivation)\n",
    "\n",
    "# Print the results\n",
    "print(\"Spearman's correlation coefficient:\", correlation)\n",
    "print(\"P-value:\", p_value)\n"
   ],
   "metadata": {
    "collapsed": false,
    "ExecuteTime": {
     "end_time": "2023-06-27T12:41:51.924198700Z",
     "start_time": "2023-06-27T12:41:51.592924600Z"
    }
   }
  },
  {
   "cell_type": "markdown",
   "source": [
    "### <span style=\"color:#FF884D\"> Mann-Whitneyu-Test RUMGESPIELT</span>\n",
    "### <span> H₀: There is no difference in intrinsic motivation among the people who use a Sport-App regulary and not.</span>"
   ],
   "metadata": {
    "collapsed": false
   }
  },
  {
   "cell_type": "code",
   "execution_count": 193,
   "outputs": [
    {
     "name": "stdout",
     "output_type": "stream",
     "text": [
      "Mann-Whitney U statistic: 399.0\n",
      "P-value: 0.3638894388419841\n"
     ]
    }
   ],
   "source": [
    "# Separate the data into two groups based on sport app usage\n",
    "\n",
    "group1 = data[(data['Frequency Sportapp'] == 0)|(data['Frequency Sportapp'] == 1)]['Intrinsic Motivation']\n",
    "group2 = data[data['Frequency Sportapp'] == 3]['Intrinsic Motivation']\n",
    "\n",
    "# Perform the Mann-Whitney U test\n",
    "statistic, p_value = stats.mannwhitneyu(group1, group2, alternative='two-sided')\n",
    "\n",
    "# Print the results\n",
    "print(\"Mann-Whitney U statistic:\", statistic)\n",
    "print(\"P-value:\", p_value)"
   ],
   "metadata": {
    "collapsed": false,
    "ExecuteTime": {
     "end_time": "2023-06-27T12:41:51.931749300Z",
     "start_time": "2023-06-27T12:41:51.600805300Z"
    }
   }
  },
  {
   "cell_type": "markdown",
   "source": [
    "### <span style=\"color:#FF884D\"> Mann-Whitneyu-Test  RUMGESPIELT</span>\n",
    "### <span> H₀: There is no difference in intrinsic motivation among the people who use a Sport-App regulary and not.</span>"
   ],
   "metadata": {
    "collapsed": false
   }
  },
  {
   "cell_type": "code",
   "execution_count": 194,
   "outputs": [
    {
     "name": "stdout",
     "output_type": "stream",
     "text": [
      "Mann-Whitney U statistic: 471.0\n",
      "P-value: 0.1342037521581591\n"
     ]
    }
   ],
   "source": [
    "# Separate the data into two groups based on sport app usage\n",
    "\n",
    "group1 = data[data['Frequency Sportapp'] == 0]['Intrinsic Motivation']\n",
    "group2 = data[(data['Frequency Sportapp'] == 1)|(data['Frequency Sportapp'] == 3)]['Intrinsic Motivation']\n",
    "\n",
    "# Perform the Mann-Whitney U test\n",
    "statistic, p_value = stats.mannwhitneyu(group1, group2, alternative='two-sided')\n",
    "\n",
    "# Print the results\n",
    "print(\"Mann-Whitney U statistic:\", statistic)\n",
    "print(\"P-value:\", p_value)"
   ],
   "metadata": {
    "collapsed": false,
    "ExecuteTime": {
     "end_time": "2023-06-27T12:41:51.931749300Z",
     "start_time": "2023-06-27T12:41:51.623675500Z"
    }
   }
  },
  {
   "cell_type": "markdown",
   "source": [
    "### <span style=\"color:#FF884D\"> Mann-Whitneyu-Test </span>\n",
    "### <span> H₀: There is no difference in Introjected Regulation among the people who use a Sport-App regulary and not.</span>"
   ],
   "metadata": {
    "collapsed": false
   }
  },
  {
   "cell_type": "code",
   "execution_count": 195,
   "outputs": [
    {
     "name": "stdout",
     "output_type": "stream",
     "text": [
      "Mann-Whitney U statistic: 518.5\n",
      "P-value: 0.008005166930407539\n"
     ]
    }
   ],
   "source": [
    "# Separate the data into two groups based on sport app usage\n",
    "group1 = data[data['Frequency Sportapp'] == 0]['Introjected Regulation']\n",
    "group2 = data[data['Frequency Sportapp'] != 0]['Introjected Regulation']\n",
    "# Perform the Mann-Whitney U test\n",
    "statistic, p_value = stats.mannwhitneyu(group1, group2, alternative='two-sided')\n",
    "\n",
    "# Print the results\n",
    "print(\"Mann-Whitney U statistic:\", statistic)\n",
    "print(\"P-value:\", p_value)"
   ],
   "metadata": {
    "collapsed": false,
    "ExecuteTime": {
     "end_time": "2023-06-27T12:41:51.931749300Z",
     "start_time": "2023-06-27T12:41:51.632149600Z"
    }
   }
  },
  {
   "cell_type": "markdown",
   "source": [
    "### <span style=\"color:#FF884D\"> Mann-Whitneyu-Test </span>\n",
    "### <span> H₀: There is no difference in identified regulation among the people who use a Sport-App regulary and not.</span>"
   ],
   "metadata": {
    "collapsed": false
   }
  },
  {
   "cell_type": "code",
   "execution_count": 196,
   "outputs": [
    {
     "name": "stdout",
     "output_type": "stream",
     "text": [
      "Mann-Whitney U statistic: 436.5\n",
      "P-value: 0.0009546856989034111\n"
     ]
    }
   ],
   "source": [
    "# Separate the data into two groups based on sport app usage\n",
    "group1 = data[data['Frequency Sportapp'] == 0]['Identified Regulation']\n",
    "group2 = data[data['Frequency Sportapp'] != 0]['Identified Regulation']\n",
    "# Perform the Mann-Whitney U test\n",
    "statistic, p_value = stats.mannwhitneyu(group1, group2, alternative='two-sided')\n",
    "\n",
    "# Print the results\n",
    "print(\"Mann-Whitney U statistic:\", statistic)\n",
    "print(\"P-value:\", p_value)"
   ],
   "metadata": {
    "collapsed": false,
    "ExecuteTime": {
     "end_time": "2023-06-27T12:41:51.931749300Z",
     "start_time": "2023-06-27T12:41:51.648253800Z"
    }
   }
  },
  {
   "cell_type": "markdown",
   "source": [
    "### <span style=\"color:#FF884D\"> Mann-Whitneyu-Test </span>\n",
    "### <span> H₀: There is no difference in intrinsic motivation among the people who use a Sport-App regulary and not.</span>"
   ],
   "metadata": {
    "collapsed": false
   }
  },
  {
   "cell_type": "code",
   "execution_count": 48,
   "outputs": [
    {
     "name": "stdout",
     "output_type": "stream",
     "text": [
      "Mann-Whitney U statistic: 683.5\n",
      "P-value: 0.17803262853756852\n"
     ]
    }
   ],
   "source": [
    "# Separate the data into two groups based on sport app usage\n",
    "group1 = data[data['Frequency Sportapp'] == 0]['Intrinsic Motivation']\n",
    "group2 = data[data['Frequency Sportapp'] != 0]['Intrinsic Motivation']\n",
    "# Perform the Mann-Whitney U test\n",
    "statistic, p_value = stats.mannwhitneyu(group1, group2, alternative='two-sided')\n",
    "\n",
    "# Print the results\n",
    "print(\"Mann-Whitney U statistic:\", statistic)\n",
    "print(\"P-value:\", p_value)"
   ],
   "metadata": {
    "collapsed": false,
    "ExecuteTime": {
     "end_time": "2023-07-04T11:04:21.455161600Z",
     "start_time": "2023-07-04T11:04:21.437484200Z"
    }
   }
  },
  {
   "cell_type": "markdown",
   "source": [
    "### <span style=\"color:#FF884D\"> Calculate Mean</span>"
   ],
   "metadata": {
    "collapsed": false
   }
  },
  {
   "cell_type": "code",
   "execution_count": 198,
   "outputs": [
    {
     "data": {
      "text/plain": "   Mean_0_Frequency  Mean_1_Frequency\n0          2.990741          3.518421",
      "text/html": "<div>\n<style scoped>\n    .dataframe tbody tr th:only-of-type {\n        vertical-align: middle;\n    }\n\n    .dataframe tbody tr th {\n        vertical-align: top;\n    }\n\n    .dataframe thead th {\n        text-align: right;\n    }\n</style>\n<table border=\"1\" class=\"dataframe\">\n  <thead>\n    <tr style=\"text-align: right;\">\n      <th></th>\n      <th>Mean_0_Frequency</th>\n      <th>Mean_1_Frequency</th>\n    </tr>\n  </thead>\n  <tbody>\n    <tr>\n      <th>0</th>\n      <td>2.990741</td>\n      <td>3.518421</td>\n    </tr>\n  </tbody>\n</table>\n</div>"
     },
     "execution_count": 198,
     "metadata": {},
     "output_type": "execute_result"
    }
   ],
   "source": [
    "mean_intrinsic_0 = data[data['Frequency Sportapp'] == 0][[\"Intrinsic Motivation\", \"Identified Regulation\",\"Integrated Regulation\"]].mean()\n",
    "mean_intrinsic_1 = data[data['Frequency Sportapp'] != 0][[\"Intrinsic Motivation\", \"Identified Regulation\",\"Integrated Regulation\"]].mean()\n",
    "\n",
    "#mean_intrinsic = data[[\"Intrinsic Motivation\", \"Identified Regulation\",\"Integrated Regulation\"]].mean()\n",
    "mean_all_1 = np.mean(mean_intrinsic_1)\n",
    "mean_all_0 = np.mean(mean_intrinsic_0)\n",
    "\n",
    "data_mean = pd.DataFrame({'Mean_0_Frequency': [mean_all_0],\n",
    "                     'Mean_1_Frequency':[mean_all_1]})\n",
    "data_mean\n",
    "#mean_all\n",
    "#mean_intrinsic_0;\n",
    "#mean_intrinsic_1"
   ],
   "metadata": {
    "collapsed": false,
    "ExecuteTime": {
     "end_time": "2023-06-27T12:41:51.931749300Z",
     "start_time": "2023-06-27T12:41:51.680302700Z"
    }
   }
  },
  {
   "cell_type": "code",
   "execution_count": 54,
   "outputs": [],
   "source": [],
   "metadata": {
    "collapsed": false,
    "ExecuteTime": {
     "end_time": "2023-07-04T11:10:19.414653100Z",
     "start_time": "2023-07-04T11:10:19.381400200Z"
    }
   }
  },
  {
   "cell_type": "markdown",
   "source": [
    "### <span style=\"color:#FF884D\"> Mann-Whitneyu-Test </span>\n",
    "### <span> H₀: There is no difference in motivation among the people who are more motivated when comparing to friends and people who are not more motivated when comparing to friends.</span>"
   ],
   "metadata": {
    "collapsed": false
   }
  },
  {
   "cell_type": "code",
   "execution_count": 50,
   "outputs": [
    {
     "name": "stdout",
     "output_type": "stream",
     "text": [
      "Mann-Whitney U statistic: 1919.0\n",
      "P-value: 0.014386936578556568\n"
     ]
    }
   ],
   "source": [
    "# Separate the data into two groups based on sport app usage\n",
    "group1 = data[data['Motivation when comparing to friends'] == 'Ja']['mean of Intrinsic motivations']\n",
    "group2 = data[data['Motivation when comparing to friends'] == 'Nein']['mean of Intrinsic motivations']\n",
    "\n",
    "# Perform the Mann-Whitney U test\n",
    "statistic, p_value = stats.mannwhitneyu(group1, group2, alternative='two-sided')\n",
    "\n",
    "# Print the results\n",
    "print(\"Mann-Whitney U statistic:\", statistic)\n",
    "print(\"P-value:\", p_value)"
   ],
   "metadata": {
    "collapsed": false,
    "ExecuteTime": {
     "end_time": "2023-07-04T11:06:29.177679100Z",
     "start_time": "2023-07-04T11:06:29.130413800Z"
    }
   }
  },
  {
   "cell_type": "code",
   "execution_count": 51,
   "outputs": [
    {
     "name": "stdout",
     "output_type": "stream",
     "text": [
      "Mann-Whitney U statistic: 1900.5\n",
      "P-value: 0.018726619742956665\n"
     ]
    }
   ],
   "source": [
    "# Separate the data into two groups based on sport app usage\n",
    "group1 = data[data['Motivation when comparing to friends'] == 'Ja']['External Regulation']\n",
    "group2 = data[data['Motivation when comparing to friends'] == 'Nein']['External Regulation']\n",
    "\n",
    "# Perform the Mann-Whitney U test\n",
    "statistic, p_value = stats.mannwhitneyu(group1, group2, alternative='two-sided')\n",
    "\n",
    "# Print the results\n",
    "print(\"Mann-Whitney U statistic:\", statistic)\n",
    "print(\"P-value:\", p_value)"
   ],
   "metadata": {
    "collapsed": false,
    "ExecuteTime": {
     "end_time": "2023-07-04T11:07:13.733298900Z",
     "start_time": "2023-07-04T11:07:13.669683400Z"
    }
   }
  },
  {
   "cell_type": "code",
   "execution_count": 52,
   "outputs": [
    {
     "name": "stdout",
     "output_type": "stream",
     "text": [
      "Mann-Whitney U statistic: 1724.5\n",
      "P-value: 0.19265212187307523\n"
     ]
    }
   ],
   "source": [
    "# Separate the data into two groups based on sport app usage\n",
    "group1 = data[data['Motivation when comparing to friends'] == 'Ja']['Introjected Regulation']\n",
    "group2 = data[data['Motivation when comparing to friends'] == 'Nein']['Introjected Regulation']\n",
    "\n",
    "# Perform the Mann-Whitney U test\n",
    "statistic, p_value = stats.mannwhitneyu(group1, group2, alternative='two-sided')\n",
    "\n",
    "# Print the results\n",
    "print(\"Mann-Whitney U statistic:\", statistic)\n",
    "print(\"P-value:\", p_value)"
   ],
   "metadata": {
    "collapsed": false,
    "ExecuteTime": {
     "end_time": "2023-07-04T11:09:32.379210100Z",
     "start_time": "2023-07-04T11:09:32.327332100Z"
    }
   }
  },
  {
   "cell_type": "code",
   "execution_count": 53,
   "outputs": [
    {
     "name": "stdout",
     "output_type": "stream",
     "text": [
      "Mann-Whitney U statistic: 1745.0\n",
      "P-value: 0.14953937832890407\n"
     ]
    }
   ],
   "source": [
    "# Separate the data into two groups based on sport app usage\n",
    "group1 = data[data['Motivation when comparing to friends'] == 'Ja']['Amotivation']\n",
    "group2 = data[data['Motivation when comparing to friends'] == 'Nein']['Amotivation']\n",
    "\n",
    "# Perform the Mann-Whitney U test\n",
    "statistic, p_value = stats.mannwhitneyu(group1, group2, alternative='two-sided')\n",
    "\n",
    "# Print the results\n",
    "print(\"Mann-Whitney U statistic:\", statistic)\n",
    "print(\"P-value:\", p_value)"
   ],
   "metadata": {
    "collapsed": false,
    "ExecuteTime": {
     "end_time": "2023-07-04T11:09:54.188369100Z",
     "start_time": "2023-07-04T11:09:54.130803700Z"
    }
   }
  },
  {
   "cell_type": "markdown",
   "source": [
    "### <span style=\"color:#FF884D\"> Mann-Whitneyu-Test </span>\n",
    "### <span> H₀: There is no difference in motivation among the people who do more or exact two types of sports and poeple who do less.</span>"
   ],
   "metadata": {
    "collapsed": false
   }
  },
  {
   "cell_type": "code",
   "execution_count": 55,
   "outputs": [
    {
     "name": "stdout",
     "output_type": "stream",
     "text": [
      "Mann-Whitney U statistic: 1820.0\n",
      "P-value: 0.030743400100218497\n"
     ]
    }
   ],
   "source": [
    "# Separate the data into two groups based on sport app usage\n",
    "group1 = data[data['numSports'] >= 2]['mean of Intrinsic motivations']\n",
    "group2 = data[data['numSports'] < 2]['mean of Intrinsic motivations']\n",
    "# Perform the Mann-Whitney U test\n",
    "statistic, p_value = stats.mannwhitneyu(group1, group2, alternative='two-sided')\n",
    "# Print the results\n",
    "print(\"Mann-Whitney U statistic:\", statistic)\n",
    "print(\"P-value:\", p_value)"
   ],
   "metadata": {
    "collapsed": false,
    "ExecuteTime": {
     "end_time": "2023-07-04T11:14:50.360222800Z",
     "start_time": "2023-07-04T11:14:50.328662700Z"
    }
   }
  },
  {
   "cell_type": "code",
   "execution_count": 56,
   "outputs": [
    {
     "name": "stdout",
     "output_type": "stream",
     "text": [
      "Mann-Whitney U statistic: 1510.0\n",
      "P-value: 0.764851671868096\n"
     ]
    }
   ],
   "source": [
    "# Separate the data into two groups based on sport app usage\n",
    "group1 = data[data['numSports'] >= 2]['External Regulation']\n",
    "group2 = data[data['numSports'] < 2]['External Regulation']\n",
    "# Perform the Mann-Whitney U test\n",
    "statistic, p_value = stats.mannwhitneyu(group1, group2, alternative='two-sided')\n",
    "# Print the results\n",
    "print(\"Mann-Whitney U statistic:\", statistic)\n",
    "print(\"P-value:\", p_value)"
   ],
   "metadata": {
    "collapsed": false,
    "ExecuteTime": {
     "end_time": "2023-07-04T11:14:52.234531600Z",
     "start_time": "2023-07-04T11:14:52.199734100Z"
    }
   }
  },
  {
   "cell_type": "markdown",
   "source": [],
   "metadata": {
    "collapsed": false
   }
  },
  {
   "cell_type": "code",
   "execution_count": 57,
   "outputs": [
    {
     "name": "stdout",
     "output_type": "stream",
     "text": [
      "Mann-Whitney U statistic: 1721.0\n",
      "P-value: 0.11563864838424046\n"
     ]
    }
   ],
   "source": [
    "# Separate the data into two groups based on sport app usage\n",
    "group1 = data[data['numSports'] >= 2]['Introjected Regulation']\n",
    "group2 = data[data['numSports'] < 2]['Introjected Regulation']\n",
    "# Perform the Mann-Whitney U test\n",
    "statistic, p_value = stats.mannwhitneyu(group1, group2, alternative='two-sided')\n",
    "# Print the results\n",
    "print(\"Mann-Whitney U statistic:\", statistic)\n",
    "print(\"P-value:\", p_value)"
   ],
   "metadata": {
    "collapsed": false,
    "ExecuteTime": {
     "end_time": "2023-07-04T11:14:54.811965700Z",
     "start_time": "2023-07-04T11:14:54.779648800Z"
    }
   }
  },
  {
   "cell_type": "code",
   "execution_count": 58,
   "outputs": [
    {
     "name": "stdout",
     "output_type": "stream",
     "text": [
      "Mann-Whitney U statistic: 1236.5\n",
      "P-value: 0.17307282476212793\n"
     ]
    }
   ],
   "source": [
    "# Separate the data into two groups based on sport app usage\n",
    "group1 = data[data['numSports'] >= 2]['Amotivation']\n",
    "group2 = data[data['numSports'] < 2]['Amotivation']\n",
    "# Perform the Mann-Whitney U test\n",
    "statistic, p_value = stats.mannwhitneyu(group1, group2, alternative='two-sided')\n",
    "# Print the results\n",
    "print(\"Mann-Whitney U statistic:\", statistic)\n",
    "print(\"P-value:\", p_value)"
   ],
   "metadata": {
    "collapsed": false,
    "ExecuteTime": {
     "end_time": "2023-07-04T11:14:56.311830700Z",
     "start_time": "2023-07-04T11:14:56.264375100Z"
    }
   }
  },
  {
   "cell_type": "markdown",
   "source": [
    "### <span style=\"color:#FF884D\"> Mann-Whitneyu-Test </span>\n",
    "### <span> H₀: There is no difference in motivation among the people who track there own performance and the people who do not track there performance.</span>"
   ],
   "metadata": {
    "collapsed": false
   }
  },
  {
   "cell_type": "code",
   "execution_count": 59,
   "outputs": [
    {
     "name": "stdout",
     "output_type": "stream",
     "text": [
      "Mann-Whitney U statistic: 1415.0\n",
      "P-value: 0.1960649005814461\n"
     ]
    }
   ],
   "source": [
    "# Separate the data into two groups based on sport app usage\n",
    "group1 = data[data['track performance'] == 1]['mean of Intrinsic motivations']\n",
    "group2 = data[data['track performance'] != 1]['mean of Intrinsic motivations']\n",
    "# Perform the Mann-Whitney U test\n",
    "statistic, p_value = stats.mannwhitneyu(group1, group2, alternative='two-sided')\n",
    "# Print the results\n",
    "print(\"Mann-Whitney U statistic:\", statistic)\n",
    "print(\"P-value:\", p_value)"
   ],
   "metadata": {
    "collapsed": false,
    "ExecuteTime": {
     "end_time": "2023-07-04T11:19:21.843539600Z",
     "start_time": "2023-07-04T11:19:21.780664700Z"
    }
   }
  },
  {
   "cell_type": "code",
   "execution_count": 60,
   "outputs": [
    {
     "name": "stdout",
     "output_type": "stream",
     "text": [
      "Mann-Whitney U statistic: 1416.0\n",
      "P-value: 0.1913369200804872\n"
     ]
    }
   ],
   "source": [
    "# Separate the data into two groups based on sport app usage\n",
    "group1 = data[data['track performance'] == 1]['External Regulation']\n",
    "group2 = data[data['track performance'] != 1]['External Regulation']\n",
    "# Perform the Mann-Whitney U test\n",
    "statistic, p_value = stats.mannwhitneyu(group1, group2, alternative='two-sided')\n",
    "# Print the results\n",
    "print(\"Mann-Whitney U statistic:\", statistic)\n",
    "print(\"P-value:\", p_value)"
   ],
   "metadata": {
    "collapsed": false,
    "ExecuteTime": {
     "end_time": "2023-07-04T11:19:49.503686Z",
     "start_time": "2023-07-04T11:19:49.441158300Z"
    }
   }
  },
  {
   "cell_type": "code",
   "execution_count": 61,
   "outputs": [
    {
     "name": "stdout",
     "output_type": "stream",
     "text": [
      "Mann-Whitney U statistic: 1498.5\n",
      "P-value: 0.0640953870124492\n"
     ]
    }
   ],
   "source": [
    "# Separate the data into two groups based on sport app usage\n",
    "group1 = data[data['track performance'] == 1]['Introjected Regulation']\n",
    "group2 = data[data['track performance'] != 1]['Introjected Regulation']\n",
    "# Perform the Mann-Whitney U test\n",
    "statistic, p_value = stats.mannwhitneyu(group1, group2, alternative='two-sided')\n",
    "# Print the results\n",
    "print(\"Mann-Whitney U statistic:\", statistic)\n",
    "print(\"P-value:\", p_value)"
   ],
   "metadata": {
    "collapsed": false,
    "ExecuteTime": {
     "end_time": "2023-07-04T11:20:08.785528700Z",
     "start_time": "2023-07-04T11:20:08.706838900Z"
    }
   }
  },
  {
   "cell_type": "code",
   "execution_count": 62,
   "outputs": [
    {
     "name": "stdout",
     "output_type": "stream",
     "text": [
      "Mann-Whitney U statistic: 1207.0\n",
      "P-value: 0.9440082756531538\n"
     ]
    }
   ],
   "source": [
    "# Separate the data into two groups based on sport app usage\n",
    "group1 = data[data['track performance'] == 1]['Amotivation']\n",
    "group2 = data[data['track performance'] != 1]['Amotivation']\n",
    "# Perform the Mann-Whitney U test\n",
    "statistic, p_value = stats.mannwhitneyu(group1, group2, alternative='two-sided')\n",
    "# Print the results\n",
    "print(\"Mann-Whitney U statistic:\", statistic)\n",
    "print(\"P-value:\", p_value)"
   ],
   "metadata": {
    "collapsed": false,
    "ExecuteTime": {
     "end_time": "2023-07-04T11:20:36.345248500Z",
     "start_time": "2023-07-04T11:20:36.224888300Z"
    }
   }
  },
  {
   "cell_type": "code",
   "execution_count": null,
   "outputs": [],
   "source": [],
   "metadata": {
    "collapsed": false
   }
  }
 ],
 "metadata": {
  "kernelspec": {
   "display_name": "Python 3",
   "language": "python",
   "name": "python3"
  },
  "language_info": {
   "codemirror_mode": {
    "name": "ipython",
    "version": 2
   },
   "file_extension": ".py",
   "mimetype": "text/x-python",
   "name": "python",
   "nbconvert_exporter": "python",
   "pygments_lexer": "ipython2",
   "version": "2.7.6"
  }
 },
 "nbformat": 4,
 "nbformat_minor": 0
}
